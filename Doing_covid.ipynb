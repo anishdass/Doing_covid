{
  "nbformat": 4,
  "nbformat_minor": 0,
  "metadata": {
    "colab": {
      "name": "Doing_covid.ipynb",
      "provenance": [],
      "authorship_tag": "ABX9TyMdA45xBFJwrTtrRpyCeHzN"
    },
    "kernelspec": {
      "name": "python3",
      "display_name": "Python 3"
    }
  },
  "cells": [
    {
      "cell_type": "markdown",
      "metadata": {
        "id": "M3qFu3Tok00K",
        "colab_type": "text"
      },
      "source": [
        "#Cleaning the DataSet"
      ]
    },
    {
      "cell_type": "code",
      "metadata": {
        "id": "UU6cmTrk42MF",
        "colab_type": "code",
        "colab": {}
      },
      "source": [
        "#Importing the libraries\n",
        "import pandas as pd\n",
        "pd.options.mode.chained_assignment = None\n",
        "import numpy as np\n",
        "import matplotlib.pyplot as plt\n",
        "import datetime"
      ],
      "execution_count": null,
      "outputs": []
    },
    {
      "cell_type": "code",
      "metadata": {
        "id": "WleoBnC15a8D",
        "colab_type": "code",
        "colab": {}
      },
      "source": [
        "#Reading the data\n",
        "df = pd.read_csv('Covid_data.csv')"
      ],
      "execution_count": null,
      "outputs": []
    },
    {
      "cell_type": "code",
      "metadata": {
        "id": "uZC5TX1gAzQ5",
        "colab_type": "code",
        "colab": {
          "base_uri": "https://localhost:8080/",
          "height": 299
        },
        "outputId": "3b154d20-e386-4e4c-d618-b1a1bf4f613d"
      },
      "source": [
        "#Observing the first 5 datapoints\n",
        "df.head()"
      ],
      "execution_count": null,
      "outputs": [
        {
          "output_type": "execute_result",
          "data": {
            "text/html": [
              "<div>\n",
              "<style scoped>\n",
              "    .dataframe tbody tr th:only-of-type {\n",
              "        vertical-align: middle;\n",
              "    }\n",
              "\n",
              "    .dataframe tbody tr th {\n",
              "        vertical-align: top;\n",
              "    }\n",
              "\n",
              "    .dataframe thead th {\n",
              "        text-align: right;\n",
              "    }\n",
              "</style>\n",
              "<table border=\"1\" class=\"dataframe\">\n",
              "  <thead>\n",
              "    <tr style=\"text-align: right;\">\n",
              "      <th></th>\n",
              "      <th>iso_code</th>\n",
              "      <th>continent</th>\n",
              "      <th>location</th>\n",
              "      <th>date</th>\n",
              "      <th>total_cases</th>\n",
              "      <th>new_cases</th>\n",
              "      <th>total_deaths</th>\n",
              "      <th>new_deaths</th>\n",
              "      <th>total_cases_per_million</th>\n",
              "      <th>new_cases_per_million</th>\n",
              "      <th>total_deaths_per_million</th>\n",
              "      <th>new_deaths_per_million</th>\n",
              "      <th>total_tests</th>\n",
              "      <th>new_tests</th>\n",
              "      <th>total_tests_per_thousand</th>\n",
              "      <th>new_tests_per_thousand</th>\n",
              "      <th>new_tests_smoothed</th>\n",
              "      <th>new_tests_smoothed_per_thousand</th>\n",
              "      <th>tests_units</th>\n",
              "      <th>stringency_index</th>\n",
              "      <th>population</th>\n",
              "      <th>population_density</th>\n",
              "      <th>median_age</th>\n",
              "      <th>aged_65_older</th>\n",
              "      <th>aged_70_older</th>\n",
              "      <th>gdp_per_capita</th>\n",
              "      <th>extreme_poverty</th>\n",
              "      <th>cvd_death_rate</th>\n",
              "      <th>diabetes_prevalence</th>\n",
              "      <th>female_smokers</th>\n",
              "      <th>male_smokers</th>\n",
              "      <th>handwashing_facilities</th>\n",
              "      <th>hospital_beds_per_thousand</th>\n",
              "      <th>life_expectancy</th>\n",
              "    </tr>\n",
              "  </thead>\n",
              "  <tbody>\n",
              "    <tr>\n",
              "      <th>0</th>\n",
              "      <td>AFG</td>\n",
              "      <td>Asia</td>\n",
              "      <td>Afghanistan</td>\n",
              "      <td>2019-12-31</td>\n",
              "      <td>0.0</td>\n",
              "      <td>0.0</td>\n",
              "      <td>0.0</td>\n",
              "      <td>0.0</td>\n",
              "      <td>0.0</td>\n",
              "      <td>0.0</td>\n",
              "      <td>0.0</td>\n",
              "      <td>0.0</td>\n",
              "      <td>NaN</td>\n",
              "      <td>NaN</td>\n",
              "      <td>NaN</td>\n",
              "      <td>NaN</td>\n",
              "      <td>NaN</td>\n",
              "      <td>NaN</td>\n",
              "      <td>NaN</td>\n",
              "      <td>NaN</td>\n",
              "      <td>38928341.0</td>\n",
              "      <td>54.422</td>\n",
              "      <td>18.6</td>\n",
              "      <td>2.581</td>\n",
              "      <td>1.337</td>\n",
              "      <td>1803.987</td>\n",
              "      <td>NaN</td>\n",
              "      <td>597.029</td>\n",
              "      <td>9.59</td>\n",
              "      <td>NaN</td>\n",
              "      <td>NaN</td>\n",
              "      <td>37.746</td>\n",
              "      <td>0.5</td>\n",
              "      <td>64.83</td>\n",
              "    </tr>\n",
              "    <tr>\n",
              "      <th>1</th>\n",
              "      <td>AFG</td>\n",
              "      <td>Asia</td>\n",
              "      <td>Afghanistan</td>\n",
              "      <td>2020-01-01</td>\n",
              "      <td>0.0</td>\n",
              "      <td>0.0</td>\n",
              "      <td>0.0</td>\n",
              "      <td>0.0</td>\n",
              "      <td>0.0</td>\n",
              "      <td>0.0</td>\n",
              "      <td>0.0</td>\n",
              "      <td>0.0</td>\n",
              "      <td>NaN</td>\n",
              "      <td>NaN</td>\n",
              "      <td>NaN</td>\n",
              "      <td>NaN</td>\n",
              "      <td>NaN</td>\n",
              "      <td>NaN</td>\n",
              "      <td>NaN</td>\n",
              "      <td>0.0</td>\n",
              "      <td>38928341.0</td>\n",
              "      <td>54.422</td>\n",
              "      <td>18.6</td>\n",
              "      <td>2.581</td>\n",
              "      <td>1.337</td>\n",
              "      <td>1803.987</td>\n",
              "      <td>NaN</td>\n",
              "      <td>597.029</td>\n",
              "      <td>9.59</td>\n",
              "      <td>NaN</td>\n",
              "      <td>NaN</td>\n",
              "      <td>37.746</td>\n",
              "      <td>0.5</td>\n",
              "      <td>64.83</td>\n",
              "    </tr>\n",
              "    <tr>\n",
              "      <th>2</th>\n",
              "      <td>AFG</td>\n",
              "      <td>Asia</td>\n",
              "      <td>Afghanistan</td>\n",
              "      <td>2020-01-02</td>\n",
              "      <td>0.0</td>\n",
              "      <td>0.0</td>\n",
              "      <td>0.0</td>\n",
              "      <td>0.0</td>\n",
              "      <td>0.0</td>\n",
              "      <td>0.0</td>\n",
              "      <td>0.0</td>\n",
              "      <td>0.0</td>\n",
              "      <td>NaN</td>\n",
              "      <td>NaN</td>\n",
              "      <td>NaN</td>\n",
              "      <td>NaN</td>\n",
              "      <td>NaN</td>\n",
              "      <td>NaN</td>\n",
              "      <td>NaN</td>\n",
              "      <td>0.0</td>\n",
              "      <td>38928341.0</td>\n",
              "      <td>54.422</td>\n",
              "      <td>18.6</td>\n",
              "      <td>2.581</td>\n",
              "      <td>1.337</td>\n",
              "      <td>1803.987</td>\n",
              "      <td>NaN</td>\n",
              "      <td>597.029</td>\n",
              "      <td>9.59</td>\n",
              "      <td>NaN</td>\n",
              "      <td>NaN</td>\n",
              "      <td>37.746</td>\n",
              "      <td>0.5</td>\n",
              "      <td>64.83</td>\n",
              "    </tr>\n",
              "    <tr>\n",
              "      <th>3</th>\n",
              "      <td>AFG</td>\n",
              "      <td>Asia</td>\n",
              "      <td>Afghanistan</td>\n",
              "      <td>2020-01-03</td>\n",
              "      <td>0.0</td>\n",
              "      <td>0.0</td>\n",
              "      <td>0.0</td>\n",
              "      <td>0.0</td>\n",
              "      <td>0.0</td>\n",
              "      <td>0.0</td>\n",
              "      <td>0.0</td>\n",
              "      <td>0.0</td>\n",
              "      <td>NaN</td>\n",
              "      <td>NaN</td>\n",
              "      <td>NaN</td>\n",
              "      <td>NaN</td>\n",
              "      <td>NaN</td>\n",
              "      <td>NaN</td>\n",
              "      <td>NaN</td>\n",
              "      <td>0.0</td>\n",
              "      <td>38928341.0</td>\n",
              "      <td>54.422</td>\n",
              "      <td>18.6</td>\n",
              "      <td>2.581</td>\n",
              "      <td>1.337</td>\n",
              "      <td>1803.987</td>\n",
              "      <td>NaN</td>\n",
              "      <td>597.029</td>\n",
              "      <td>9.59</td>\n",
              "      <td>NaN</td>\n",
              "      <td>NaN</td>\n",
              "      <td>37.746</td>\n",
              "      <td>0.5</td>\n",
              "      <td>64.83</td>\n",
              "    </tr>\n",
              "    <tr>\n",
              "      <th>4</th>\n",
              "      <td>AFG</td>\n",
              "      <td>Asia</td>\n",
              "      <td>Afghanistan</td>\n",
              "      <td>2020-01-04</td>\n",
              "      <td>0.0</td>\n",
              "      <td>0.0</td>\n",
              "      <td>0.0</td>\n",
              "      <td>0.0</td>\n",
              "      <td>0.0</td>\n",
              "      <td>0.0</td>\n",
              "      <td>0.0</td>\n",
              "      <td>0.0</td>\n",
              "      <td>NaN</td>\n",
              "      <td>NaN</td>\n",
              "      <td>NaN</td>\n",
              "      <td>NaN</td>\n",
              "      <td>NaN</td>\n",
              "      <td>NaN</td>\n",
              "      <td>NaN</td>\n",
              "      <td>0.0</td>\n",
              "      <td>38928341.0</td>\n",
              "      <td>54.422</td>\n",
              "      <td>18.6</td>\n",
              "      <td>2.581</td>\n",
              "      <td>1.337</td>\n",
              "      <td>1803.987</td>\n",
              "      <td>NaN</td>\n",
              "      <td>597.029</td>\n",
              "      <td>9.59</td>\n",
              "      <td>NaN</td>\n",
              "      <td>NaN</td>\n",
              "      <td>37.746</td>\n",
              "      <td>0.5</td>\n",
              "      <td>64.83</td>\n",
              "    </tr>\n",
              "  </tbody>\n",
              "</table>\n",
              "</div>"
            ],
            "text/plain": [
              "  iso_code continent  ... hospital_beds_per_thousand life_expectancy\n",
              "0      AFG      Asia  ...                        0.5           64.83\n",
              "1      AFG      Asia  ...                        0.5           64.83\n",
              "2      AFG      Asia  ...                        0.5           64.83\n",
              "3      AFG      Asia  ...                        0.5           64.83\n",
              "4      AFG      Asia  ...                        0.5           64.83\n",
              "\n",
              "[5 rows x 34 columns]"
            ]
          },
          "metadata": {
            "tags": []
          },
          "execution_count": 3
        }
      ]
    },
    {
      "cell_type": "code",
      "metadata": {
        "id": "kZOZvD7DsOZK",
        "colab_type": "code",
        "colab": {
          "base_uri": "https://localhost:8080/",
          "height": 706
        },
        "outputId": "66277e34-c291-4776-c638-8adad1741dce"
      },
      "source": [
        "#Information about the data\n",
        "df.info()"
      ],
      "execution_count": null,
      "outputs": [
        {
          "output_type": "stream",
          "text": [
            "<class 'pandas.core.frame.DataFrame'>\n",
            "RangeIndex: 24443 entries, 0 to 24442\n",
            "Data columns (total 34 columns):\n",
            " #   Column                           Non-Null Count  Dtype  \n",
            "---  ------                           --------------  -----  \n",
            " 0   iso_code                         24379 non-null  object \n",
            " 1   continent                        24209 non-null  object \n",
            " 2   location                         24443 non-null  object \n",
            " 3   date                             24443 non-null  object \n",
            " 4   total_cases                      24225 non-null  float64\n",
            " 5   new_cases                        24225 non-null  float64\n",
            " 6   total_deaths                     24225 non-null  float64\n",
            " 7   new_deaths                       24225 non-null  float64\n",
            " 8   total_cases_per_million          24161 non-null  float64\n",
            " 9   new_cases_per_million            24161 non-null  float64\n",
            " 10  total_deaths_per_million         24161 non-null  float64\n",
            " 11  new_deaths_per_million           24161 non-null  float64\n",
            " 12  total_tests                      6773 non-null   float64\n",
            " 13  new_tests                        6101 non-null   float64\n",
            " 14  total_tests_per_thousand         6773 non-null   float64\n",
            " 15  new_tests_per_thousand           6101 non-null   float64\n",
            " 16  new_tests_smoothed               7308 non-null   float64\n",
            " 17  new_tests_smoothed_per_thousand  7308 non-null   float64\n",
            " 18  tests_units                      7919 non-null   object \n",
            " 19  stringency_index                 19463 non-null  float64\n",
            " 20  population                       24379 non-null  float64\n",
            " 21  population_density               23399 non-null  float64\n",
            " 22  median_age                       22124 non-null  float64\n",
            " 23  aged_65_older                    21815 non-null  float64\n",
            " 24  aged_70_older                    22011 non-null  float64\n",
            " 25  gdp_per_capita                   21883 non-null  float64\n",
            " 26  extreme_poverty                  14618 non-null  float64\n",
            " 27  cvd_death_rate                   22146 non-null  float64\n",
            " 28  diabetes_prevalence              22861 non-null  float64\n",
            " 29  female_smokers                   17830 non-null  float64\n",
            " 30  male_smokers                     17628 non-null  float64\n",
            " 31  handwashing_facilities           9883 non-null   float64\n",
            " 32  hospital_beds_per_thousand       20299 non-null  float64\n",
            " 33  life_expectancy                  24105 non-null  float64\n",
            "dtypes: float64(29), object(5)\n",
            "memory usage: 6.3+ MB\n"
          ],
          "name": "stdout"
        }
      ]
    },
    {
      "cell_type": "code",
      "metadata": {
        "id": "74gonwzTf5cb",
        "colab_type": "code",
        "colab": {}
      },
      "source": [
        "#Converting the object to datetime\n",
        "df['date'] = pd.to_datetime(df['date'])"
      ],
      "execution_count": null,
      "outputs": []
    },
    {
      "cell_type": "code",
      "metadata": {
        "id": "KIKerOGJsSXu",
        "colab_type": "code",
        "colab": {}
      },
      "source": [
        "#Extracting and creating a new month column\n",
        "df['month'] = df['date'].apply(lambda x: x.month)"
      ],
      "execution_count": null,
      "outputs": []
    },
    {
      "cell_type": "code",
      "metadata": {
        "id": "E_9Y94RhsUAi",
        "colab_type": "code",
        "colab": {}
      },
      "source": [
        "total_cases_by_month = df.total_cases.groupby(df.month).sum()"
      ],
      "execution_count": null,
      "outputs": []
    },
    {
      "cell_type": "code",
      "metadata": {
        "id": "WQvft3B3soK0",
        "colab_type": "code",
        "colab": {
          "base_uri": "https://localhost:8080/",
          "height": 276
        },
        "outputId": "132de901-cddc-4540-a088-7ad4fbfeaf3a"
      },
      "source": [
        "plt.bar(total_cases_by_month.index, total_cases_by_month)\n",
        "plt.show()"
      ],
      "execution_count": null,
      "outputs": [
        {
          "output_type": "display_data",
          "data": {
            "image/png": "[encoded data removed]",
            "text/plain": [
              "<Figure size 432x288 with 1 Axes>"
            ]
          },
          "metadata": {
            "tags": [],
            "needs_background": "light"
          }
        }
      ]
    },
    {
      "cell_type": "code",
      "metadata": {
        "id": "OjfEoaRmDMLL",
        "colab_type": "code",
        "colab": {
          "base_uri": "https://localhost:8080/",
          "height": 299
        },
        "outputId": "c38a15d5-d1af-4501-ca58-955aa379c7ff"
      },
      "source": [
        "df.head()"
      ],
      "execution_count": null,
      "outputs": [
        {
          "output_type": "execute_result",
          "data": {
            "text/html": [
              "<div>\n",
              "<style scoped>\n",
              "    .dataframe tbody tr th:only-of-type {\n",
              "        vertical-align: middle;\n",
              "    }\n",
              "\n",
              "    .dataframe tbody tr th {\n",
              "        vertical-align: top;\n",
              "    }\n",
              "\n",
              "    .dataframe thead th {\n",
              "        text-align: right;\n",
              "    }\n",
              "</style>\n",
              "<table border=\"1\" class=\"dataframe\">\n",
              "  <thead>\n",
              "    <tr style=\"text-align: right;\">\n",
              "      <th></th>\n",
              "      <th>iso_code</th>\n",
              "      <th>continent</th>\n",
              "      <th>location</th>\n",
              "      <th>date</th>\n",
              "      <th>total_cases</th>\n",
              "      <th>new_cases</th>\n",
              "      <th>total_deaths</th>\n",
              "      <th>new_deaths</th>\n",
              "      <th>total_cases_per_million</th>\n",
              "      <th>new_cases_per_million</th>\n",
              "      <th>total_deaths_per_million</th>\n",
              "      <th>new_deaths_per_million</th>\n",
              "      <th>total_tests</th>\n",
              "      <th>new_tests</th>\n",
              "      <th>total_tests_per_thousand</th>\n",
              "      <th>new_tests_per_thousand</th>\n",
              "      <th>new_tests_smoothed</th>\n",
              "      <th>new_tests_smoothed_per_thousand</th>\n",
              "      <th>tests_units</th>\n",
              "      <th>stringency_index</th>\n",
              "      <th>population</th>\n",
              "      <th>population_density</th>\n",
              "      <th>median_age</th>\n",
              "      <th>aged_65_older</th>\n",
              "      <th>aged_70_older</th>\n",
              "      <th>gdp_per_capita</th>\n",
              "      <th>extreme_poverty</th>\n",
              "      <th>cvd_death_rate</th>\n",
              "      <th>diabetes_prevalence</th>\n",
              "      <th>female_smokers</th>\n",
              "      <th>male_smokers</th>\n",
              "      <th>handwashing_facilities</th>\n",
              "      <th>hospital_beds_per_thousand</th>\n",
              "      <th>life_expectancy</th>\n",
              "      <th>month</th>\n",
              "    </tr>\n",
              "  </thead>\n",
              "  <tbody>\n",
              "    <tr>\n",
              "      <th>0</th>\n",
              "      <td>AFG</td>\n",
              "      <td>Asia</td>\n",
              "      <td>Afghanistan</td>\n",
              "      <td>2019-12-31</td>\n",
              "      <td>0.0</td>\n",
              "      <td>0.0</td>\n",
              "      <td>0.0</td>\n",
              "      <td>0.0</td>\n",
              "      <td>0.0</td>\n",
              "      <td>0.0</td>\n",
              "      <td>0.0</td>\n",
              "      <td>0.0</td>\n",
              "      <td>NaN</td>\n",
              "      <td>NaN</td>\n",
              "      <td>NaN</td>\n",
              "      <td>NaN</td>\n",
              "      <td>NaN</td>\n",
              "      <td>NaN</td>\n",
              "      <td>NaN</td>\n",
              "      <td>NaN</td>\n",
              "      <td>38928341.0</td>\n",
              "      <td>54.422</td>\n",
              "      <td>18.6</td>\n",
              "      <td>2.581</td>\n",
              "      <td>1.337</td>\n",
              "      <td>1803.987</td>\n",
              "      <td>NaN</td>\n",
              "      <td>597.029</td>\n",
              "      <td>9.59</td>\n",
              "      <td>NaN</td>\n",
              "      <td>NaN</td>\n",
              "      <td>37.746</td>\n",
              "      <td>0.5</td>\n",
              "      <td>64.83</td>\n",
              "      <td>12</td>\n",
              "    </tr>\n",
              "    <tr>\n",
              "      <th>1</th>\n",
              "      <td>AFG</td>\n",
              "      <td>Asia</td>\n",
              "      <td>Afghanistan</td>\n",
              "      <td>2020-01-01</td>\n",
              "      <td>0.0</td>\n",
              "      <td>0.0</td>\n",
              "      <td>0.0</td>\n",
              "      <td>0.0</td>\n",
              "      <td>0.0</td>\n",
              "      <td>0.0</td>\n",
              "      <td>0.0</td>\n",
              "      <td>0.0</td>\n",
              "      <td>NaN</td>\n",
              "      <td>NaN</td>\n",
              "      <td>NaN</td>\n",
              "      <td>NaN</td>\n",
              "      <td>NaN</td>\n",
              "      <td>NaN</td>\n",
              "      <td>NaN</td>\n",
              "      <td>0.0</td>\n",
              "      <td>38928341.0</td>\n",
              "      <td>54.422</td>\n",
              "      <td>18.6</td>\n",
              "      <td>2.581</td>\n",
              "      <td>1.337</td>\n",
              "      <td>1803.987</td>\n",
              "      <td>NaN</td>\n",
              "      <td>597.029</td>\n",
              "      <td>9.59</td>\n",
              "      <td>NaN</td>\n",
              "      <td>NaN</td>\n",
              "      <td>37.746</td>\n",
              "      <td>0.5</td>\n",
              "      <td>64.83</td>\n",
              "      <td>1</td>\n",
              "    </tr>\n",
              "    <tr>\n",
              "      <th>2</th>\n",
              "      <td>AFG</td>\n",
              "      <td>Asia</td>\n",
              "      <td>Afghanistan</td>\n",
              "      <td>2020-01-02</td>\n",
              "      <td>0.0</td>\n",
              "      <td>0.0</td>\n",
              "      <td>0.0</td>\n",
              "      <td>0.0</td>\n",
              "      <td>0.0</td>\n",
              "      <td>0.0</td>\n",
              "      <td>0.0</td>\n",
              "      <td>0.0</td>\n",
              "      <td>NaN</td>\n",
              "      <td>NaN</td>\n",
              "      <td>NaN</td>\n",
              "      <td>NaN</td>\n",
              "      <td>NaN</td>\n",
              "      <td>NaN</td>\n",
              "      <td>NaN</td>\n",
              "      <td>0.0</td>\n",
              "      <td>38928341.0</td>\n",
              "      <td>54.422</td>\n",
              "      <td>18.6</td>\n",
              "      <td>2.581</td>\n",
              "      <td>1.337</td>\n",
              "      <td>1803.987</td>\n",
              "      <td>NaN</td>\n",
              "      <td>597.029</td>\n",
              "      <td>9.59</td>\n",
              "      <td>NaN</td>\n",
              "      <td>NaN</td>\n",
              "      <td>37.746</td>\n",
              "      <td>0.5</td>\n",
              "      <td>64.83</td>\n",
              "      <td>1</td>\n",
              "    </tr>\n",
              "    <tr>\n",
              "      <th>3</th>\n",
              "      <td>AFG</td>\n",
              "      <td>Asia</td>\n",
              "      <td>Afghanistan</td>\n",
              "      <td>2020-01-03</td>\n",
              "      <td>0.0</td>\n",
              "      <td>0.0</td>\n",
              "      <td>0.0</td>\n",
              "      <td>0.0</td>\n",
              "      <td>0.0</td>\n",
              "      <td>0.0</td>\n",
              "      <td>0.0</td>\n",
              "      <td>0.0</td>\n",
              "      <td>NaN</td>\n",
              "      <td>NaN</td>\n",
              "      <td>NaN</td>\n",
              "      <td>NaN</td>\n",
              "      <td>NaN</td>\n",
              "      <td>NaN</td>\n",
              "      <td>NaN</td>\n",
              "      <td>0.0</td>\n",
              "      <td>38928341.0</td>\n",
              "      <td>54.422</td>\n",
              "      <td>18.6</td>\n",
              "      <td>2.581</td>\n",
              "      <td>1.337</td>\n",
              "      <td>1803.987</td>\n",
              "      <td>NaN</td>\n",
              "      <td>597.029</td>\n",
              "      <td>9.59</td>\n",
              "      <td>NaN</td>\n",
              "      <td>NaN</td>\n",
              "      <td>37.746</td>\n",
              "      <td>0.5</td>\n",
              "      <td>64.83</td>\n",
              "      <td>1</td>\n",
              "    </tr>\n",
              "    <tr>\n",
              "      <th>4</th>\n",
              "      <td>AFG</td>\n",
              "      <td>Asia</td>\n",
              "      <td>Afghanistan</td>\n",
              "      <td>2020-01-04</td>\n",
              "      <td>0.0</td>\n",
              "      <td>0.0</td>\n",
              "      <td>0.0</td>\n",
              "      <td>0.0</td>\n",
              "      <td>0.0</td>\n",
              "      <td>0.0</td>\n",
              "      <td>0.0</td>\n",
              "      <td>0.0</td>\n",
              "      <td>NaN</td>\n",
              "      <td>NaN</td>\n",
              "      <td>NaN</td>\n",
              "      <td>NaN</td>\n",
              "      <td>NaN</td>\n",
              "      <td>NaN</td>\n",
              "      <td>NaN</td>\n",
              "      <td>0.0</td>\n",
              "      <td>38928341.0</td>\n",
              "      <td>54.422</td>\n",
              "      <td>18.6</td>\n",
              "      <td>2.581</td>\n",
              "      <td>1.337</td>\n",
              "      <td>1803.987</td>\n",
              "      <td>NaN</td>\n",
              "      <td>597.029</td>\n",
              "      <td>9.59</td>\n",
              "      <td>NaN</td>\n",
              "      <td>NaN</td>\n",
              "      <td>37.746</td>\n",
              "      <td>0.5</td>\n",
              "      <td>64.83</td>\n",
              "      <td>1</td>\n",
              "    </tr>\n",
              "  </tbody>\n",
              "</table>\n",
              "</div>"
            ],
            "text/plain": [
              "  iso_code continent  ... life_expectancy month\n",
              "0      AFG      Asia  ...           64.83    12\n",
              "1      AFG      Asia  ...           64.83     1\n",
              "2      AFG      Asia  ...           64.83     1\n",
              "3      AFG      Asia  ...           64.83     1\n",
              "4      AFG      Asia  ...           64.83     1\n",
              "\n",
              "[5 rows x 35 columns]"
            ]
          },
          "metadata": {
            "tags": []
          },
          "execution_count": 9
        }
      ]
    },
    {
      "cell_type": "code",
      "metadata": {
        "id": "pYfpyzlixh65",
        "colab_type": "code",
        "colab": {
          "base_uri": "https://localhost:8080/",
          "height": 790
        },
        "outputId": "597d9bf3-2713-46c3-afe7-ec86b27acc2b"
      },
      "source": [
        "df.location.unique()"
      ],
      "execution_count": null,
      "outputs": [
        {
          "output_type": "execute_result",
          "data": {
            "text/plain": [
              "array(['Afghanistan', 'Albania', 'Algeria', 'Andorra', 'Angola',\n",
              "       'Anguilla', 'Antigua and Barbuda', 'Argentina', 'Armenia', 'Aruba',\n",
              "       'Australia', 'Austria', 'Azerbaijan', 'Bahamas', 'Bahrain',\n",
              "       'Bangladesh', 'Barbados', 'Belarus', 'Belgium', 'Belize', 'Benin',\n",
              "       'Bermuda', 'Bhutan', 'Bolivia', 'Bonaire Sint Eustatius and Saba',\n",
              "       'Bosnia and Herzegovina', 'Botswana', 'Brazil',\n",
              "       'British Virgin Islands', 'Brunei', 'Bulgaria', 'Burkina Faso',\n",
              "       'Burundi', 'Cambodia', 'Cameroon', 'Canada', 'Cape Verde',\n",
              "       'Cayman Islands', 'Central African Republic', 'Chad', 'Chile',\n",
              "       'China', 'Colombia', 'Comoros', 'Congo', 'Costa Rica',\n",
              "       \"Cote d'Ivoire\", 'Croatia', 'Cuba', 'Curacao', 'Cyprus',\n",
              "       'Czech Republic', 'Democratic Republic of Congo', 'Denmark',\n",
              "       'Djibouti', 'Dominica', 'Dominican Republic', 'Ecuador', 'Egypt',\n",
              "       'El Salvador', 'Equatorial Guinea', 'Eritrea', 'Estonia',\n",
              "       'Ethiopia', 'Faeroe Islands', 'Falkland Islands', 'Fiji',\n",
              "       'Finland', 'France', 'French Polynesia', 'Gabon', 'Gambia',\n",
              "       'Georgia', 'Germany', 'Ghana', 'Gibraltar', 'Greece', 'Greenland',\n",
              "       'Grenada', 'Guam', 'Guatemala', 'Guernsey', 'Guinea',\n",
              "       'Guinea-Bissau', 'Guyana', 'Haiti', 'Honduras', 'Hong Kong',\n",
              "       'Hungary', 'Iceland', 'India', 'Indonesia', 'Iran', 'Iraq',\n",
              "       'Ireland', 'Isle of Man', 'Israel', 'Italy', 'Jamaica', 'Japan',\n",
              "       'Jersey', 'Jordan', 'Kazakhstan', 'Kenya', 'Kosovo', 'Kuwait',\n",
              "       'Kyrgyzstan', 'Laos', 'Latvia', 'Lebanon', 'Lesotho', 'Liberia',\n",
              "       'Libya', 'Liechtenstein', 'Lithuania', 'Luxembourg', 'Macedonia',\n",
              "       'Madagascar', 'Malawi', 'Malaysia', 'Maldives', 'Mali', 'Malta',\n",
              "       'Mauritania', 'Mauritius', 'Mexico', 'Moldova', 'Monaco',\n",
              "       'Mongolia', 'Montenegro', 'Montserrat', 'Morocco', 'Mozambique',\n",
              "       'Myanmar', 'Namibia', 'Nepal', 'Netherlands', 'New Caledonia',\n",
              "       'New Zealand', 'Nicaragua', 'Niger', 'Nigeria',\n",
              "       'Northern Mariana Islands', 'Norway', 'Oman', 'Pakistan',\n",
              "       'Palestine', 'Panama', 'Papua New Guinea', 'Paraguay', 'Peru',\n",
              "       'Philippines', 'Poland', 'Portugal', 'Puerto Rico', 'Qatar',\n",
              "       'Romania', 'Russia', 'Rwanda', 'Saint Kitts and Nevis',\n",
              "       'Saint Lucia', 'Saint Vincent and the Grenadines', 'San Marino',\n",
              "       'Sao Tome and Principe', 'Saudi Arabia', 'Senegal', 'Serbia',\n",
              "       'Seychelles', 'Sierra Leone', 'Singapore',\n",
              "       'Sint Maarten (Dutch part)', 'Slovakia', 'Slovenia', 'Somalia',\n",
              "       'South Africa', 'South Korea', 'South Sudan', 'Spain', 'Sri Lanka',\n",
              "       'Sudan', 'Suriname', 'Swaziland', 'Sweden', 'Switzerland', 'Syria',\n",
              "       'Taiwan', 'Tajikistan', 'Tanzania', 'Thailand', 'Timor', 'Togo',\n",
              "       'Trinidad and Tobago', 'Tunisia', 'Turkey',\n",
              "       'Turks and Caicos Islands', 'Uganda', 'Ukraine',\n",
              "       'United Arab Emirates', 'United Kingdom', 'United States',\n",
              "       'United States Virgin Islands', 'Uruguay', 'Uzbekistan', 'Vatican',\n",
              "       'Venezuela', 'Vietnam', 'Western Sahara', 'Yemen', 'Zambia',\n",
              "       'Zimbabwe', 'World', 'International'], dtype=object)"
            ]
          },
          "metadata": {
            "tags": []
          },
          "execution_count": 10
        }
      ]
    },
    {
      "cell_type": "code",
      "metadata": {
        "id": "QG4rFEeKyPIN",
        "colab_type": "code",
        "colab": {
          "base_uri": "https://localhost:8080/",
          "height": 722
        },
        "outputId": "ca2ab8fe-9224-4aa8-b9ea-35ad84baaa06"
      },
      "source": [
        "df.info()"
      ],
      "execution_count": null,
      "outputs": [
        {
          "output_type": "stream",
          "text": [
            "<class 'pandas.core.frame.DataFrame'>\n",
            "RangeIndex: 24443 entries, 0 to 24442\n",
            "Data columns (total 35 columns):\n",
            " #   Column                           Non-Null Count  Dtype         \n",
            "---  ------                           --------------  -----         \n",
            " 0   iso_code                         24379 non-null  object        \n",
            " 1   continent                        24209 non-null  object        \n",
            " 2   location                         24443 non-null  object        \n",
            " 3   date                             24443 non-null  datetime64[ns]\n",
            " 4   total_cases                      24225 non-null  float64       \n",
            " 5   new_cases                        24225 non-null  float64       \n",
            " 6   total_deaths                     24225 non-null  float64       \n",
            " 7   new_deaths                       24225 non-null  float64       \n",
            " 8   total_cases_per_million          24161 non-null  float64       \n",
            " 9   new_cases_per_million            24161 non-null  float64       \n",
            " 10  total_deaths_per_million         24161 non-null  float64       \n",
            " 11  new_deaths_per_million           24161 non-null  float64       \n",
            " 12  total_tests                      6773 non-null   float64       \n",
            " 13  new_tests                        6101 non-null   float64       \n",
            " 14  total_tests_per_thousand         6773 non-null   float64       \n",
            " 15  new_tests_per_thousand           6101 non-null   float64       \n",
            " 16  new_tests_smoothed               7308 non-null   float64       \n",
            " 17  new_tests_smoothed_per_thousand  7308 non-null   float64       \n",
            " 18  tests_units                      7919 non-null   object        \n",
            " 19  stringency_index                 19463 non-null  float64       \n",
            " 20  population                       24379 non-null  float64       \n",
            " 21  population_density               23399 non-null  float64       \n",
            " 22  median_age                       22124 non-null  float64       \n",
            " 23  aged_65_older                    21815 non-null  float64       \n",
            " 24  aged_70_older                    22011 non-null  float64       \n",
            " 25  gdp_per_capita                   21883 non-null  float64       \n",
            " 26  extreme_poverty                  14618 non-null  float64       \n",
            " 27  cvd_death_rate                   22146 non-null  float64       \n",
            " 28  diabetes_prevalence              22861 non-null  float64       \n",
            " 29  female_smokers                   17830 non-null  float64       \n",
            " 30  male_smokers                     17628 non-null  float64       \n",
            " 31  handwashing_facilities           9883 non-null   float64       \n",
            " 32  hospital_beds_per_thousand       20299 non-null  float64       \n",
            " 33  life_expectancy                  24105 non-null  float64       \n",
            " 34  month                            24443 non-null  int64         \n",
            "dtypes: datetime64[ns](1), float64(29), int64(1), object(4)\n",
            "memory usage: 6.5+ MB\n"
          ],
          "name": "stdout"
        }
      ]
    },
    {
      "cell_type": "code",
      "metadata": {
        "id": "k2SlU10vyT7P",
        "colab_type": "code",
        "colab": {
          "base_uri": "https://localhost:8080/",
          "height": 420
        },
        "outputId": "3f4ee769-0f0f-4dfb-fb74-96e7e6c15384"
      },
      "source": [
        "df.iso_code.unique()"
      ],
      "execution_count": null,
      "outputs": [
        {
          "output_type": "execute_result",
          "data": {
            "text/plain": [
              "array(['AFG', 'ALB', 'DZA', 'AND', 'AGO', 'AIA', 'ATG', 'ARG', 'ARM',\n",
              "       'ABW', 'AUS', 'AUT', 'AZE', 'BHS', 'BHR', 'BGD', 'BRB', 'BLR',\n",
              "       'BEL', 'BLZ', 'BEN', 'BMU', 'BTN', 'BOL', 'BES', 'BIH', 'BWA',\n",
              "       'BRA', 'VGB', 'BRN', 'BGR', 'BFA', 'BDI', 'KHM', 'CMR', 'CAN',\n",
              "       'CPV', 'CYM', 'CAF', 'TCD', 'CHL', 'CHN', 'COL', 'COM', 'COG',\n",
              "       'CRI', 'CIV', 'HRV', 'CUB', 'CUW', 'CYP', 'CZE', 'COD', 'DNK',\n",
              "       'DJI', 'DMA', 'DOM', 'ECU', 'EGY', 'SLV', 'GNQ', 'ERI', 'EST',\n",
              "       'ETH', 'FRO', 'FLK', 'FJI', 'FIN', 'FRA', 'PYF', 'GAB', 'GMB',\n",
              "       'GEO', 'DEU', 'GHA', 'GIB', 'GRC', 'GRL', 'GRD', 'GUM', 'GTM',\n",
              "       'GGY', 'GIN', 'GNB', 'GUY', 'HTI', 'HND', 'HKG', 'HUN', 'ISL',\n",
              "       'IND', 'IDN', 'IRN', 'IRQ', 'IRL', 'IMN', 'ISR', 'ITA', 'JAM',\n",
              "       'JPN', 'JEY', 'JOR', 'KAZ', 'KEN', 'OWID_KOS', 'KWT', 'KGZ', 'LAO',\n",
              "       'LVA', 'LBN', 'LSO', 'LBR', 'LBY', 'LIE', 'LTU', 'LUX', 'MKD',\n",
              "       'MDG', 'MWI', 'MYS', 'MDV', 'MLI', 'MLT', 'MRT', 'MUS', 'MEX',\n",
              "       'MDA', 'MCO', 'MNG', 'MNE', 'MSR', 'MAR', 'MOZ', 'MMR', 'NAM',\n",
              "       'NPL', 'NLD', 'NCL', 'NZL', 'NIC', 'NER', 'NGA', 'MNP', 'NOR',\n",
              "       'OMN', 'PAK', 'PSE', 'PAN', 'PNG', 'PRY', 'PER', 'PHL', 'POL',\n",
              "       'PRT', 'PRI', 'QAT', 'ROU', 'RUS', 'RWA', 'KNA', 'LCA', 'VCT',\n",
              "       'SMR', 'STP', 'SAU', 'SEN', 'SRB', 'SYC', 'SLE', 'SGP', 'SXM',\n",
              "       'SVK', 'SVN', 'SOM', 'ZAF', 'KOR', 'SSD', 'ESP', 'LKA', 'SDN',\n",
              "       'SUR', 'SWZ', 'SWE', 'CHE', 'SYR', 'TWN', 'TJK', 'TZA', 'THA',\n",
              "       'TLS', 'TGO', 'TTO', 'TUN', 'TUR', 'TCA', 'UGA', 'UKR', 'ARE',\n",
              "       'GBR', 'USA', 'VIR', 'URY', 'UZB', 'VAT', 'VEN', 'VNM', 'ESH',\n",
              "       'YEM', 'ZMB', 'ZWE', 'OWID_WRL', nan], dtype=object)"
            ]
          },
          "metadata": {
            "tags": []
          },
          "execution_count": 12
        }
      ]
    },
    {
      "cell_type": "code",
      "metadata": {
        "id": "VK6l7fwbycP3",
        "colab_type": "code",
        "colab": {}
      },
      "source": [
        "df.iso_code.fillna('INT', inplace=True)"
      ],
      "execution_count": null,
      "outputs": []
    },
    {
      "cell_type": "code",
      "metadata": {
        "id": "H74YTs87ygpT",
        "colab_type": "code",
        "colab": {
          "base_uri": "https://localhost:8080/",
          "height": 722
        },
        "outputId": "2edc3f49-b0ce-4633-8b63-12a9e8775015"
      },
      "source": [
        "df.info()"
      ],
      "execution_count": null,
      "outputs": [
        {
          "output_type": "stream",
          "text": [
            "<class 'pandas.core.frame.DataFrame'>\n",
            "RangeIndex: 24443 entries, 0 to 24442\n",
            "Data columns (total 35 columns):\n",
            " #   Column                           Non-Null Count  Dtype         \n",
            "---  ------                           --------------  -----         \n",
            " 0   iso_code                         24443 non-null  object        \n",
            " 1   continent                        24209 non-null  object        \n",
            " 2   location                         24443 non-null  object        \n",
            " 3   date                             24443 non-null  datetime64[ns]\n",
            " 4   total_cases                      24225 non-null  float64       \n",
            " 5   new_cases                        24225 non-null  float64       \n",
            " 6   total_deaths                     24225 non-null  float64       \n",
            " 7   new_deaths                       24225 non-null  float64       \n",
            " 8   total_cases_per_million          24161 non-null  float64       \n",
            " 9   new_cases_per_million            24161 non-null  float64       \n",
            " 10  total_deaths_per_million         24161 non-null  float64       \n",
            " 11  new_deaths_per_million           24161 non-null  float64       \n",
            " 12  total_tests                      6773 non-null   float64       \n",
            " 13  new_tests                        6101 non-null   float64       \n",
            " 14  total_tests_per_thousand         6773 non-null   float64       \n",
            " 15  new_tests_per_thousand           6101 non-null   float64       \n",
            " 16  new_tests_smoothed               7308 non-null   float64       \n",
            " 17  new_tests_smoothed_per_thousand  7308 non-null   float64       \n",
            " 18  tests_units                      7919 non-null   object        \n",
            " 19  stringency_index                 19463 non-null  float64       \n",
            " 20  population                       24379 non-null  float64       \n",
            " 21  population_density               23399 non-null  float64       \n",
            " 22  median_age                       22124 non-null  float64       \n",
            " 23  aged_65_older                    21815 non-null  float64       \n",
            " 24  aged_70_older                    22011 non-null  float64       \n",
            " 25  gdp_per_capita                   21883 non-null  float64       \n",
            " 26  extreme_poverty                  14618 non-null  float64       \n",
            " 27  cvd_death_rate                   22146 non-null  float64       \n",
            " 28  diabetes_prevalence              22861 non-null  float64       \n",
            " 29  female_smokers                   17830 non-null  float64       \n",
            " 30  male_smokers                     17628 non-null  float64       \n",
            " 31  handwashing_facilities           9883 non-null   float64       \n",
            " 32  hospital_beds_per_thousand       20299 non-null  float64       \n",
            " 33  life_expectancy                  24105 non-null  float64       \n",
            " 34  month                            24443 non-null  int64         \n",
            "dtypes: datetime64[ns](1), float64(29), int64(1), object(4)\n",
            "memory usage: 6.5+ MB\n"
          ],
          "name": "stdout"
        }
      ]
    },
    {
      "cell_type": "code",
      "metadata": {
        "id": "ZziT7baRzOg0",
        "colab_type": "code",
        "colab": {
          "base_uri": "https://localhost:8080/",
          "height": 50
        },
        "outputId": "11e56216-2fd0-4a24-ecfd-8b6371ae16c4"
      },
      "source": [
        "df.continent.unique()"
      ],
      "execution_count": null,
      "outputs": [
        {
          "output_type": "execute_result",
          "data": {
            "text/plain": [
              "array(['Asia', 'Europe', 'Africa', 'North America', 'South America',\n",
              "       'Oceania', nan], dtype=object)"
            ]
          },
          "metadata": {
            "tags": []
          },
          "execution_count": 15
        }
      ]
    },
    {
      "cell_type": "code",
      "metadata": {
        "id": "Cp99-ktizlI4",
        "colab_type": "code",
        "colab": {}
      },
      "source": [
        "df.continent.fillna('Unknown', inplace = True)"
      ],
      "execution_count": null,
      "outputs": []
    },
    {
      "cell_type": "code",
      "metadata": {
        "id": "APcStOObz3H0",
        "colab_type": "code",
        "colab": {
          "base_uri": "https://localhost:8080/",
          "height": 722
        },
        "outputId": "ac1b1ab7-5684-4f5f-a4dd-ee158b294695"
      },
      "source": [
        "df.info()"
      ],
      "execution_count": null,
      "outputs": [
        {
          "output_type": "stream",
          "text": [
            "<class 'pandas.core.frame.DataFrame'>\n",
            "RangeIndex: 24443 entries, 0 to 24442\n",
            "Data columns (total 35 columns):\n",
            " #   Column                           Non-Null Count  Dtype         \n",
            "---  ------                           --------------  -----         \n",
            " 0   iso_code                         24443 non-null  object        \n",
            " 1   continent                        24443 non-null  object        \n",
            " 2   location                         24443 non-null  object        \n",
            " 3   date                             24443 non-null  datetime64[ns]\n",
            " 4   total_cases                      24225 non-null  float64       \n",
            " 5   new_cases                        24225 non-null  float64       \n",
            " 6   total_deaths                     24225 non-null  float64       \n",
            " 7   new_deaths                       24225 non-null  float64       \n",
            " 8   total_cases_per_million          24161 non-null  float64       \n",
            " 9   new_cases_per_million            24161 non-null  float64       \n",
            " 10  total_deaths_per_million         24161 non-null  float64       \n",
            " 11  new_deaths_per_million           24161 non-null  float64       \n",
            " 12  total_tests                      6773 non-null   float64       \n",
            " 13  new_tests                        6101 non-null   float64       \n",
            " 14  total_tests_per_thousand         6773 non-null   float64       \n",
            " 15  new_tests_per_thousand           6101 non-null   float64       \n",
            " 16  new_tests_smoothed               7308 non-null   float64       \n",
            " 17  new_tests_smoothed_per_thousand  7308 non-null   float64       \n",
            " 18  tests_units                      7919 non-null   object        \n",
            " 19  stringency_index                 19463 non-null  float64       \n",
            " 20  population                       24379 non-null  float64       \n",
            " 21  population_density               23399 non-null  float64       \n",
            " 22  median_age                       22124 non-null  float64       \n",
            " 23  aged_65_older                    21815 non-null  float64       \n",
            " 24  aged_70_older                    22011 non-null  float64       \n",
            " 25  gdp_per_capita                   21883 non-null  float64       \n",
            " 26  extreme_poverty                  14618 non-null  float64       \n",
            " 27  cvd_death_rate                   22146 non-null  float64       \n",
            " 28  diabetes_prevalence              22861 non-null  float64       \n",
            " 29  female_smokers                   17830 non-null  float64       \n",
            " 30  male_smokers                     17628 non-null  float64       \n",
            " 31  handwashing_facilities           9883 non-null   float64       \n",
            " 32  hospital_beds_per_thousand       20299 non-null  float64       \n",
            " 33  life_expectancy                  24105 non-null  float64       \n",
            " 34  month                            24443 non-null  int64         \n",
            "dtypes: datetime64[ns](1), float64(29), int64(1), object(4)\n",
            "memory usage: 6.5+ MB\n"
          ],
          "name": "stdout"
        }
      ]
    },
    {
      "cell_type": "code",
      "metadata": {
        "id": "Gggs_fvB0x_2",
        "colab_type": "code",
        "colab": {}
      },
      "source": [
        "locations = list(df[df.total_cases.isnull()].location.unique())"
      ],
      "execution_count": null,
      "outputs": []
    },
    {
      "cell_type": "code",
      "metadata": {
        "id": "bNQ724q39ZR6",
        "colab_type": "code",
        "colab": {}
      },
      "source": [
        "def fill_na_in_dates(locations):\n",
        "\n",
        "  for i in range(0, len(locations)):\n",
        "    first_null = df[(df.location == locations[i]) & (df.total_cases.isnull())].index[0]\n",
        "    first_not_null = df[(df.location == locations[i]) & (df.total_cases.notnull())].index[0]\n",
        "    len_location = len(df[df.location == locations[i]])\n",
        "\n",
        "    for row in range(first_null, first_not_null):\n",
        "      df.total_cases.replace(np.nan, 0, inplace = True)\n",
        "      df.new_cases.replace(np.nan, 0, inplace = True)\n",
        "      df.total_deaths.replace(np.nan, 0, inplace = True)\n",
        "      df.new_deaths.replace(np.nan, 0, inplace = True)\n",
        "      df.total_cases_per_million.replace(np.nan, 0, inplace = True)\n",
        "      df.new_cases_per_million.replace(np.nan, 0, inplace = True)\n",
        "      df.total_deaths_per_million.replace(np.nan, 0, inplace = True)\n",
        "      df.new_deaths_per_million.replace(np.nan, 0, inplace = True)\n",
        "\n",
        "    for row in range(first_not_null, len_location):\n",
        "      df.total_cases.replace(np.nan, df.total_cases.shift(1), inplace = True)\n",
        "      df.new_cases.replace(np.nan, 0, inplace = True)\n",
        "      df.total_deaths.replace(np.nan, df.total_deaths.shift(1), inplace = True)\n",
        "      df.new_deaths.replace(np.nan, 0, inplace = True)\n",
        "      df.total_cases_per_million.replace(np.nan, df.total_cases_per_million.shift(1), inplace = True)\n",
        "      df.new_cases_per_million.replace(np.nan, 0, inplace = True)\n",
        "      df.total_deaths_per_million.replace(np.nan, df.total_deaths_per_million.shift(1), inplace = True)\n",
        "      df.new_deaths_per_million.replace(np.nan, 0, inplace = True)"
      ],
      "execution_count": null,
      "outputs": []
    },
    {
      "cell_type": "code",
      "metadata": {
        "id": "1Sjc2yJAcJMO",
        "colab_type": "code",
        "colab": {}
      },
      "source": [
        "fill_na_in_dates(locations)"
      ],
      "execution_count": null,
      "outputs": []
    },
    {
      "cell_type": "code",
      "metadata": {
        "id": "OdlPHZnojWHD",
        "colab_type": "code",
        "colab": {
          "base_uri": "https://localhost:8080/",
          "height": 722
        },
        "outputId": "34bf9e18-c309-46a5-b2d9-27af5f93c240"
      },
      "source": [
        "df.info()"
      ],
      "execution_count": null,
      "outputs": [
        {
          "output_type": "stream",
          "text": [
            "<class 'pandas.core.frame.DataFrame'>\n",
            "RangeIndex: 24443 entries, 0 to 24442\n",
            "Data columns (total 35 columns):\n",
            " #   Column                           Non-Null Count  Dtype         \n",
            "---  ------                           --------------  -----         \n",
            " 0   iso_code                         24443 non-null  object        \n",
            " 1   continent                        24443 non-null  object        \n",
            " 2   location                         24443 non-null  object        \n",
            " 3   date                             24443 non-null  datetime64[ns]\n",
            " 4   total_cases                      24443 non-null  float64       \n",
            " 5   new_cases                        24443 non-null  float64       \n",
            " 6   total_deaths                     24443 non-null  float64       \n",
            " 7   new_deaths                       24443 non-null  float64       \n",
            " 8   total_cases_per_million          24443 non-null  float64       \n",
            " 9   new_cases_per_million            24443 non-null  float64       \n",
            " 10  total_deaths_per_million         24443 non-null  float64       \n",
            " 11  new_deaths_per_million           24443 non-null  float64       \n",
            " 12  total_tests                      6773 non-null   float64       \n",
            " 13  new_tests                        6101 non-null   float64       \n",
            " 14  total_tests_per_thousand         6773 non-null   float64       \n",
            " 15  new_tests_per_thousand           6101 non-null   float64       \n",
            " 16  new_tests_smoothed               7308 non-null   float64       \n",
            " 17  new_tests_smoothed_per_thousand  7308 non-null   float64       \n",
            " 18  tests_units                      7919 non-null   object        \n",
            " 19  stringency_index                 19463 non-null  float64       \n",
            " 20  population                       24379 non-null  float64       \n",
            " 21  population_density               23399 non-null  float64       \n",
            " 22  median_age                       22124 non-null  float64       \n",
            " 23  aged_65_older                    21815 non-null  float64       \n",
            " 24  aged_70_older                    22011 non-null  float64       \n",
            " 25  gdp_per_capita                   21883 non-null  float64       \n",
            " 26  extreme_poverty                  14618 non-null  float64       \n",
            " 27  cvd_death_rate                   22146 non-null  float64       \n",
            " 28  diabetes_prevalence              22861 non-null  float64       \n",
            " 29  female_smokers                   17830 non-null  float64       \n",
            " 30  male_smokers                     17628 non-null  float64       \n",
            " 31  handwashing_facilities           9883 non-null   float64       \n",
            " 32  hospital_beds_per_thousand       20299 non-null  float64       \n",
            " 33  life_expectancy                  24105 non-null  float64       \n",
            " 34  month                            24443 non-null  int64         \n",
            "dtypes: datetime64[ns](1), float64(29), int64(1), object(4)\n",
            "memory usage: 6.5+ MB\n"
          ],
          "name": "stdout"
        }
      ]
    },
    {
      "cell_type": "code",
      "metadata": {
        "id": "alyJ6OrSjWN6",
        "colab_type": "code",
        "colab": {
          "base_uri": "https://localhost:8080/",
          "height": 34
        },
        "outputId": "9b7347ed-1c52-48fe-e40f-3a62fbe62c64"
      },
      "source": [
        "df[df.population.isnull()].location.unique()"
      ],
      "execution_count": null,
      "outputs": [
        {
          "output_type": "execute_result",
          "data": {
            "text/plain": [
              "array([], dtype=object)"
            ]
          },
          "metadata": {
            "tags": []
          },
          "execution_count": 36
        }
      ]
    },
    {
      "cell_type": "code",
      "metadata": {
        "id": "WMznOgK16D5P",
        "colab_type": "code",
        "colab": {
          "base_uri": "https://localhost:8080/",
          "height": 67
        },
        "outputId": "5c4653a5-0528-4281-ec27-f9c600d5d846"
      },
      "source": [
        "df.columns[4:12:2]"
      ],
      "execution_count": null,
      "outputs": [
        {
          "output_type": "execute_result",
          "data": {
            "text/plain": [
              "Index(['total_cases', 'total_deaths', 'total_cases_per_million',\n",
              "       'total_deaths_per_million'],\n",
              "      dtype='object')"
            ]
          },
          "metadata": {
            "tags": []
          },
          "execution_count": 37
        }
      ]
    },
    {
      "cell_type": "code",
      "metadata": {
        "id": "t2GskdoI2if7",
        "colab_type": "code",
        "colab": {
          "base_uri": "https://localhost:8080/",
          "height": 34
        },
        "outputId": "28a1b4bc-100a-4bb1-9e83-73d3d09c60cc"
      },
      "source": [
        "df[df.location =='International'].total_cases.sum()"
      ],
      "execution_count": null,
      "outputs": [
        {
          "output_type": "execute_result",
          "data": {
            "text/plain": [
              "11737.0"
            ]
          },
          "metadata": {
            "tags": []
          },
          "execution_count": 38
        }
      ]
    },
    {
      "cell_type": "code",
      "metadata": {
        "id": "xoYwgLNFp-C3",
        "colab_type": "code",
        "colab": {}
      },
      "source": [
        "sum1 = df.total_cases.groupby(df.location).sum()"
      ],
      "execution_count": null,
      "outputs": []
    },
    {
      "cell_type": "code",
      "metadata": {
        "id": "UlY0FYtxqKhP",
        "colab_type": "code",
        "colab": {
          "base_uri": "https://localhost:8080/",
          "height": 34
        },
        "outputId": "57f2cc51-e959-43fa-b0ec-7d81a1d34a45"
      },
      "source": [
        "np.where(np.logical_and(sum1>11000, sum1<12000))"
      ],
      "execution_count": null,
      "outputs": [
        {
          "output_type": "execute_result",
          "data": {
            "text/plain": [
              "(array([75, 92]),)"
            ]
          },
          "metadata": {
            "tags": []
          },
          "execution_count": 40
        }
      ]
    },
    {
      "cell_type": "code",
      "metadata": {
        "id": "MUiZA0GttOlZ",
        "colab_type": "code",
        "colab": {
          "base_uri": "https://localhost:8080/",
          "height": 50
        },
        "outputId": "a788a767-d9cb-4205-a16d-9f59b5585a76"
      },
      "source": [
        "sum1.to_frame().iloc[75]"
      ],
      "execution_count": null,
      "outputs": [
        {
          "output_type": "execute_result",
          "data": {
            "text/plain": [
              "total_cases    11615.0\n",
              "Name: Gibraltar, dtype: float64"
            ]
          },
          "metadata": {
            "tags": []
          },
          "execution_count": 41
        }
      ]
    },
    {
      "cell_type": "code",
      "metadata": {
        "id": "o5MU8QeHu4CJ",
        "colab_type": "code",
        "colab": {
          "base_uri": "https://localhost:8080/",
          "height": 34
        },
        "outputId": "593c386d-f1ef-4dae-d79d-28fc44d4103a"
      },
      "source": [
        "df[df.location == 'Gibraltar'].population.unique()"
      ],
      "execution_count": null,
      "outputs": [
        {
          "output_type": "execute_result",
          "data": {
            "text/plain": [
              "array([33691.])"
            ]
          },
          "metadata": {
            "tags": []
          },
          "execution_count": 42
        }
      ]
    },
    {
      "cell_type": "code",
      "metadata": {
        "id": "uGFyPvUkwdSt",
        "colab_type": "code",
        "colab": {}
      },
      "source": [
        "df.population.replace(np.float64('NaN'), np.float64(33691), inplace = True)"
      ],
      "execution_count": null,
      "outputs": []
    },
    {
      "cell_type": "code",
      "metadata": {
        "id": "O2uiH1HDxy87",
        "colab_type": "code",
        "colab": {
          "base_uri": "https://localhost:8080/",
          "height": 218
        },
        "outputId": "3b07731f-f4c9-437e-e88d-589e4ff14856"
      },
      "source": [
        "df[df.location == 'International'].population"
      ],
      "execution_count": null,
      "outputs": [
        {
          "output_type": "execute_result",
          "data": {
            "text/plain": [
              "24379    33691.0\n",
              "24380    33691.0\n",
              "24381    33691.0\n",
              "24382    33691.0\n",
              "24383    33691.0\n",
              "          ...   \n",
              "24438    33691.0\n",
              "24439    33691.0\n",
              "24440    33691.0\n",
              "24441    33691.0\n",
              "24442    33691.0\n",
              "Name: population, Length: 64, dtype: float64"
            ]
          },
          "metadata": {
            "tags": []
          },
          "execution_count": 44
        }
      ]
    },
    {
      "cell_type": "code",
      "metadata": {
        "id": "zT8-0pLuyRtk",
        "colab_type": "code",
        "colab": {
          "base_uri": "https://localhost:8080/",
          "height": 722
        },
        "outputId": "ca397bc3-88e2-4778-cf19-fc18a0005b69"
      },
      "source": [
        "df.info()"
      ],
      "execution_count": null,
      "outputs": [
        {
          "output_type": "stream",
          "text": [
            "<class 'pandas.core.frame.DataFrame'>\n",
            "RangeIndex: 24443 entries, 0 to 24442\n",
            "Data columns (total 35 columns):\n",
            " #   Column                           Non-Null Count  Dtype         \n",
            "---  ------                           --------------  -----         \n",
            " 0   iso_code                         24443 non-null  object        \n",
            " 1   continent                        24443 non-null  object        \n",
            " 2   location                         24443 non-null  object        \n",
            " 3   date                             24443 non-null  datetime64[ns]\n",
            " 4   total_cases                      24443 non-null  float64       \n",
            " 5   new_cases                        24443 non-null  float64       \n",
            " 6   total_deaths                     24443 non-null  float64       \n",
            " 7   new_deaths                       24443 non-null  float64       \n",
            " 8   total_cases_per_million          24443 non-null  float64       \n",
            " 9   new_cases_per_million            24443 non-null  float64       \n",
            " 10  total_deaths_per_million         24443 non-null  float64       \n",
            " 11  new_deaths_per_million           24443 non-null  float64       \n",
            " 12  total_tests                      6773 non-null   float64       \n",
            " 13  new_tests                        6101 non-null   float64       \n",
            " 14  total_tests_per_thousand         6773 non-null   float64       \n",
            " 15  new_tests_per_thousand           6101 non-null   float64       \n",
            " 16  new_tests_smoothed               7308 non-null   float64       \n",
            " 17  new_tests_smoothed_per_thousand  7308 non-null   float64       \n",
            " 18  tests_units                      7919 non-null   object        \n",
            " 19  stringency_index                 19463 non-null  float64       \n",
            " 20  population                       24443 non-null  float64       \n",
            " 21  population_density               23399 non-null  float64       \n",
            " 22  median_age                       22124 non-null  float64       \n",
            " 23  aged_65_older                    21815 non-null  float64       \n",
            " 24  aged_70_older                    22011 non-null  float64       \n",
            " 25  gdp_per_capita                   21883 non-null  float64       \n",
            " 26  extreme_poverty                  14618 non-null  float64       \n",
            " 27  cvd_death_rate                   22146 non-null  float64       \n",
            " 28  diabetes_prevalence              22861 non-null  float64       \n",
            " 29  female_smokers                   17830 non-null  float64       \n",
            " 30  male_smokers                     17628 non-null  float64       \n",
            " 31  handwashing_facilities           9883 non-null   float64       \n",
            " 32  hospital_beds_per_thousand       20299 non-null  float64       \n",
            " 33  life_expectancy                  24105 non-null  float64       \n",
            " 34  month                            24443 non-null  int64         \n",
            "dtypes: datetime64[ns](1), float64(29), int64(1), object(4)\n",
            "memory usage: 6.5+ MB\n"
          ],
          "name": "stdout"
        }
      ]
    },
    {
      "cell_type": "code",
      "metadata": {
        "id": "1BQil3U9wEEX",
        "colab_type": "code",
        "colab": {}
      },
      "source": [
        "no_stringency_locations = list(df[df.stringency_index.notnull()].location.unique())"
      ],
      "execution_count": null,
      "outputs": []
    },
    {
      "cell_type": "code",
      "metadata": {
        "id": "BqlyZukixPpr",
        "colab_type": "code",
        "colab": {
          "base_uri": "https://localhost:8080/",
          "height": 1000
        },
        "outputId": "e354de6a-8354-42f5-a274-77071547322a"
      },
      "source": [
        "no_stringency_locations"
      ],
      "execution_count": null,
      "outputs": [
        {
          "output_type": "execute_result",
          "data": {
            "text/plain": [
              "['Afghanistan',\n",
              " 'Albania',\n",
              " 'Algeria',\n",
              " 'Andorra',\n",
              " 'Angola',\n",
              " 'Argentina',\n",
              " 'Aruba',\n",
              " 'Australia',\n",
              " 'Austria',\n",
              " 'Azerbaijan',\n",
              " 'Bahrain',\n",
              " 'Bangladesh',\n",
              " 'Barbados',\n",
              " 'Belarus',\n",
              " 'Belgium',\n",
              " 'Belize',\n",
              " 'Benin',\n",
              " 'Bermuda',\n",
              " 'Bhutan',\n",
              " 'Bolivia',\n",
              " 'Bosnia and Herzegovina',\n",
              " 'Botswana',\n",
              " 'Brazil',\n",
              " 'Brunei',\n",
              " 'Bulgaria',\n",
              " 'Burkina Faso',\n",
              " 'Burundi',\n",
              " 'Cambodia',\n",
              " 'Cameroon',\n",
              " 'Canada',\n",
              " 'Cape Verde',\n",
              " 'Central African Republic',\n",
              " 'Chad',\n",
              " 'Chile',\n",
              " 'China',\n",
              " 'Colombia',\n",
              " 'Congo',\n",
              " 'Costa Rica',\n",
              " \"Cote d'Ivoire\",\n",
              " 'Croatia',\n",
              " 'Cuba',\n",
              " 'Cyprus',\n",
              " 'Czech Republic',\n",
              " 'Democratic Republic of Congo',\n",
              " 'Denmark',\n",
              " 'Djibouti',\n",
              " 'Dominica',\n",
              " 'Dominican Republic',\n",
              " 'Ecuador',\n",
              " 'Egypt',\n",
              " 'El Salvador',\n",
              " 'Eritrea',\n",
              " 'Estonia',\n",
              " 'Ethiopia',\n",
              " 'Fiji',\n",
              " 'Finland',\n",
              " 'France',\n",
              " 'Gabon',\n",
              " 'Gambia',\n",
              " 'Georgia',\n",
              " 'Germany',\n",
              " 'Ghana',\n",
              " 'Greece',\n",
              " 'Greenland',\n",
              " 'Guam',\n",
              " 'Guatemala',\n",
              " 'Guinea',\n",
              " 'Guyana',\n",
              " 'Haiti',\n",
              " 'Honduras',\n",
              " 'Hong Kong',\n",
              " 'Hungary',\n",
              " 'Iceland',\n",
              " 'India',\n",
              " 'Indonesia',\n",
              " 'Iran',\n",
              " 'Iraq',\n",
              " 'Ireland',\n",
              " 'Israel',\n",
              " 'Italy',\n",
              " 'Jamaica',\n",
              " 'Japan',\n",
              " 'Jordan',\n",
              " 'Kazakhstan',\n",
              " 'Kenya',\n",
              " 'Kosovo',\n",
              " 'Kuwait',\n",
              " 'Kyrgyzstan',\n",
              " 'Laos',\n",
              " 'Lebanon',\n",
              " 'Lesotho',\n",
              " 'Liberia',\n",
              " 'Libya',\n",
              " 'Lithuania',\n",
              " 'Luxembourg',\n",
              " 'Madagascar',\n",
              " 'Malawi',\n",
              " 'Malaysia',\n",
              " 'Mali',\n",
              " 'Mauritania',\n",
              " 'Mauritius',\n",
              " 'Mexico',\n",
              " 'Moldova',\n",
              " 'Mongolia',\n",
              " 'Morocco',\n",
              " 'Mozambique',\n",
              " 'Myanmar',\n",
              " 'Namibia',\n",
              " 'Nepal',\n",
              " 'Netherlands',\n",
              " 'New Zealand',\n",
              " 'Nicaragua',\n",
              " 'Niger',\n",
              " 'Nigeria',\n",
              " 'Norway',\n",
              " 'Oman',\n",
              " 'Pakistan',\n",
              " 'Palestine',\n",
              " 'Panama',\n",
              " 'Papua New Guinea',\n",
              " 'Paraguay',\n",
              " 'Peru',\n",
              " 'Philippines',\n",
              " 'Poland',\n",
              " 'Portugal',\n",
              " 'Puerto Rico',\n",
              " 'Qatar',\n",
              " 'Romania',\n",
              " 'Russia',\n",
              " 'Rwanda',\n",
              " 'San Marino',\n",
              " 'Saudi Arabia',\n",
              " 'Senegal',\n",
              " 'Serbia',\n",
              " 'Seychelles',\n",
              " 'Sierra Leone',\n",
              " 'Singapore',\n",
              " 'Slovakia',\n",
              " 'Slovenia',\n",
              " 'Somalia',\n",
              " 'South Africa',\n",
              " 'South Korea',\n",
              " 'South Sudan',\n",
              " 'Spain',\n",
              " 'Sri Lanka',\n",
              " 'Sudan',\n",
              " 'Suriname',\n",
              " 'Swaziland',\n",
              " 'Sweden',\n",
              " 'Switzerland',\n",
              " 'Syria',\n",
              " 'Taiwan',\n",
              " 'Tajikistan',\n",
              " 'Tanzania',\n",
              " 'Thailand',\n",
              " 'Timor',\n",
              " 'Togo',\n",
              " 'Trinidad and Tobago',\n",
              " 'Tunisia',\n",
              " 'Turkey',\n",
              " 'Uganda',\n",
              " 'Ukraine',\n",
              " 'United Arab Emirates',\n",
              " 'United Kingdom',\n",
              " 'United States',\n",
              " 'Uruguay',\n",
              " 'Uzbekistan',\n",
              " 'Venezuela',\n",
              " 'Vietnam',\n",
              " 'Yemen',\n",
              " 'Zambia',\n",
              " 'Zimbabwe']"
            ]
          },
          "metadata": {
            "tags": []
          },
          "execution_count": 47
        }
      ]
    },
    {
      "cell_type": "code",
      "metadata": {
        "id": "V_WGy_qwFNMM",
        "colab_type": "code",
        "colab": {}
      },
      "source": [
        "df_copy = df.copy()"
      ],
      "execution_count": null,
      "outputs": []
    },
    {
      "cell_type": "code",
      "metadata": {
        "id": "8pyB_gTuD5qG",
        "colab_type": "code",
        "colab": {
          "base_uri": "https://localhost:8080/",
          "height": 722
        },
        "outputId": "d4da6f7f-9b0e-4e23-f6f0-1414a2a65488"
      },
      "source": [
        "df_copy.info()"
      ],
      "execution_count": null,
      "outputs": [
        {
          "output_type": "stream",
          "text": [
            "<class 'pandas.core.frame.DataFrame'>\n",
            "RangeIndex: 24443 entries, 0 to 24442\n",
            "Data columns (total 35 columns):\n",
            " #   Column                           Non-Null Count  Dtype         \n",
            "---  ------                           --------------  -----         \n",
            " 0   iso_code                         24443 non-null  object        \n",
            " 1   continent                        24443 non-null  object        \n",
            " 2   location                         24443 non-null  object        \n",
            " 3   date                             24443 non-null  datetime64[ns]\n",
            " 4   total_cases                      24443 non-null  float64       \n",
            " 5   new_cases                        24443 non-null  float64       \n",
            " 6   total_deaths                     24443 non-null  float64       \n",
            " 7   new_deaths                       24443 non-null  float64       \n",
            " 8   total_cases_per_million          24443 non-null  float64       \n",
            " 9   new_cases_per_million            24443 non-null  float64       \n",
            " 10  total_deaths_per_million         24443 non-null  float64       \n",
            " 11  new_deaths_per_million           24443 non-null  float64       \n",
            " 12  total_tests                      6773 non-null   float64       \n",
            " 13  new_tests                        6101 non-null   float64       \n",
            " 14  total_tests_per_thousand         6773 non-null   float64       \n",
            " 15  new_tests_per_thousand           6101 non-null   float64       \n",
            " 16  new_tests_smoothed               7308 non-null   float64       \n",
            " 17  new_tests_smoothed_per_thousand  7308 non-null   float64       \n",
            " 18  tests_units                      7919 non-null   object        \n",
            " 19  stringency_index                 19463 non-null  float64       \n",
            " 20  population                       24443 non-null  float64       \n",
            " 21  population_density               23399 non-null  float64       \n",
            " 22  median_age                       22124 non-null  float64       \n",
            " 23  aged_65_older                    21815 non-null  float64       \n",
            " 24  aged_70_older                    22011 non-null  float64       \n",
            " 25  gdp_per_capita                   21883 non-null  float64       \n",
            " 26  extreme_poverty                  14618 non-null  float64       \n",
            " 27  cvd_death_rate                   22146 non-null  float64       \n",
            " 28  diabetes_prevalence              22861 non-null  float64       \n",
            " 29  female_smokers                   17830 non-null  float64       \n",
            " 30  male_smokers                     17628 non-null  float64       \n",
            " 31  handwashing_facilities           9883 non-null   float64       \n",
            " 32  hospital_beds_per_thousand       20299 non-null  float64       \n",
            " 33  life_expectancy                  24105 non-null  float64       \n",
            " 34  month                            24443 non-null  int64         \n",
            "dtypes: datetime64[ns](1), float64(29), int64(1), object(4)\n",
            "memory usage: 6.5+ MB\n"
          ],
          "name": "stdout"
        }
      ]
    },
    {
      "cell_type": "code",
      "metadata": {
        "id": "9S4BqzzWxWrT",
        "colab_type": "code",
        "colab": {}
      },
      "source": [
        "def fill_stringency_locations(locations):\n",
        "  for i in range(0 , len(locations)):\n",
        "    first_location_occurence = df[df.location == locations[i]].index[0]\n",
        "    first_stringency_index = df[(df.location == locations[i]) & (df.stringency_index.notnull())].index[0]\n",
        "    last_stringency_index = df[(df.location == locations[i]) & (df.stringency_index.notnull())].index[-1]\n",
        "    last_location_occurence = df[df.location == locations[i]].index[-1]\n",
        "\n",
        "    for row in range(first_location_occurence , first_stringency_index):\n",
        "      df.stringency_index.replace(np.nan, 0, inplace = True)\n",
        "    for row in range(last_stringency_index , last_location_occurence):\n",
        "      df.stringency_index.replace(np.nan, df.stringency_index.shift(1), inplace = True)"
      ],
      "execution_count": null,
      "outputs": []
    },
    {
      "cell_type": "code",
      "metadata": {
        "id": "LWwLG51OHaAw",
        "colab_type": "code",
        "colab": {
          "base_uri": "https://localhost:8080/",
          "height": 34
        },
        "outputId": "df0583e7-d811-4ce8-ac66-5433179a56c0"
      },
      "source": [
        "df_copy[(df_copy.location == no_stringency_locations[0]) & (df_copy.stringency_index.notnull())][['location', 'stringency_index']].index[-1]"
      ],
      "execution_count": null,
      "outputs": [
        {
          "output_type": "execute_result",
          "data": {
            "text/plain": [
              "150"
            ]
          },
          "metadata": {
            "tags": []
          },
          "execution_count": 82
        }
      ]
    },
    {
      "cell_type": "code",
      "metadata": {
        "id": "X__F85NgIGwS",
        "colab_type": "code",
        "colab": {
          "base_uri": "https://localhost:8080/",
          "height": 34
        },
        "outputId": "af177a86-cc8b-48dc-d345-f0050c514db9"
      },
      "source": [
        "no_stringency_locations[0]"
      ],
      "execution_count": null,
      "outputs": [
        {
          "output_type": "execute_result",
          "data": {
            "text/plain": [
              "'Afghanistan'"
            ]
          },
          "metadata": {
            "tags": []
          },
          "execution_count": 70
        }
      ]
    },
    {
      "cell_type": "code",
      "metadata": {
        "id": "GtGsfYYAJ_z0",
        "colab_type": "code",
        "colab": {
          "base_uri": "https://localhost:8080/",
          "height": 34
        },
        "outputId": "58ec01ec-539d-439c-f217-8a609cda775e"
      },
      "source": [
        "df_copy.stringency_index.iloc[150]"
      ],
      "execution_count": null,
      "outputs": [
        {
          "output_type": "execute_result",
          "data": {
            "text/plain": [
              "84.26"
            ]
          },
          "metadata": {
            "tags": []
          },
          "execution_count": 85
        }
      ]
    },
    {
      "cell_type": "code",
      "metadata": {
        "id": "wII5oBlaHzTj",
        "colab_type": "code",
        "colab": {
          "base_uri": "https://localhost:8080/",
          "height": 402
        },
        "outputId": "7e4ebaf8-d19c-4f22-c631-4c9f939be87e"
      },
      "source": [
        "df_copy[['location', 'stringency_index']].iloc[159:]"
      ],
      "execution_count": null,
      "outputs": [
        {
          "output_type": "execute_result",
          "data": {
            "text/html": [
              "<div>\n",
              "<style scoped>\n",
              "    .dataframe tbody tr th:only-of-type {\n",
              "        vertical-align: middle;\n",
              "    }\n",
              "\n",
              "    .dataframe tbody tr th {\n",
              "        vertical-align: top;\n",
              "    }\n",
              "\n",
              "    .dataframe thead th {\n",
              "        text-align: right;\n",
              "    }\n",
              "</style>\n",
              "<table border=\"1\" class=\"dataframe\">\n",
              "  <thead>\n",
              "    <tr style=\"text-align: right;\">\n",
              "      <th></th>\n",
              "      <th>location</th>\n",
              "      <th>stringency_index</th>\n",
              "    </tr>\n",
              "  </thead>\n",
              "  <tbody>\n",
              "    <tr>\n",
              "      <th>159</th>\n",
              "      <td>Afghanistan</td>\n",
              "      <td>NaN</td>\n",
              "    </tr>\n",
              "    <tr>\n",
              "      <th>160</th>\n",
              "      <td>Albania</td>\n",
              "      <td>36.11</td>\n",
              "    </tr>\n",
              "    <tr>\n",
              "      <th>161</th>\n",
              "      <td>Albania</td>\n",
              "      <td>41.67</td>\n",
              "    </tr>\n",
              "    <tr>\n",
              "      <th>162</th>\n",
              "      <td>Albania</td>\n",
              "      <td>51.85</td>\n",
              "    </tr>\n",
              "    <tr>\n",
              "      <th>163</th>\n",
              "      <td>Albania</td>\n",
              "      <td>51.85</td>\n",
              "    </tr>\n",
              "    <tr>\n",
              "      <th>...</th>\n",
              "      <td>...</td>\n",
              "      <td>...</td>\n",
              "    </tr>\n",
              "    <tr>\n",
              "      <th>24438</th>\n",
              "      <td>International</td>\n",
              "      <td>NaN</td>\n",
              "    </tr>\n",
              "    <tr>\n",
              "      <th>24439</th>\n",
              "      <td>International</td>\n",
              "      <td>NaN</td>\n",
              "    </tr>\n",
              "    <tr>\n",
              "      <th>24440</th>\n",
              "      <td>International</td>\n",
              "      <td>NaN</td>\n",
              "    </tr>\n",
              "    <tr>\n",
              "      <th>24441</th>\n",
              "      <td>International</td>\n",
              "      <td>NaN</td>\n",
              "    </tr>\n",
              "    <tr>\n",
              "      <th>24442</th>\n",
              "      <td>International</td>\n",
              "      <td>NaN</td>\n",
              "    </tr>\n",
              "  </tbody>\n",
              "</table>\n",
              "<p>24284 rows × 2 columns</p>\n",
              "</div>"
            ],
            "text/plain": [
              "            location  stringency_index\n",
              "159      Afghanistan               NaN\n",
              "160          Albania             36.11\n",
              "161          Albania             41.67\n",
              "162          Albania             51.85\n",
              "163          Albania             51.85\n",
              "...              ...               ...\n",
              "24438  International               NaN\n",
              "24439  International               NaN\n",
              "24440  International               NaN\n",
              "24441  International               NaN\n",
              "24442  International               NaN\n",
              "\n",
              "[24284 rows x 2 columns]"
            ]
          },
          "metadata": {
            "tags": []
          },
          "execution_count": 71
        }
      ]
    },
    {
      "cell_type": "code",
      "metadata": {
        "id": "YOf_Af3EyL39",
        "colab_type": "code",
        "colab": {}
      },
      "source": [
        "fill_stringency_locations(no_stringency_locations)"
      ],
      "execution_count": null,
      "outputs": []
    },
    {
      "cell_type": "code",
      "metadata": {
        "id": "3_Zz9nsEyT_R",
        "colab_type": "code",
        "colab": {}
      },
      "source": [
        "df.info()"
      ],
      "execution_count": null,
      "outputs": []
    },
    {
      "cell_type": "code",
      "metadata": {
        "id": "BBdm1_ZD6tOF",
        "colab_type": "code",
        "colab": {
          "base_uri": "https://localhost:8080/",
          "height": 722
        },
        "outputId": "e658c14c-a8cd-43de-d8c1-2b4f4cc363fa"
      },
      "source": [
        "df_copy.info()"
      ],
      "execution_count": null,
      "outputs": [
        {
          "output_type": "stream",
          "text": [
            "<class 'pandas.core.frame.DataFrame'>\n",
            "RangeIndex: 24443 entries, 0 to 24442\n",
            "Data columns (total 35 columns):\n",
            " #   Column                           Non-Null Count  Dtype         \n",
            "---  ------                           --------------  -----         \n",
            " 0   iso_code                         24443 non-null  object        \n",
            " 1   continent                        24443 non-null  object        \n",
            " 2   location                         24443 non-null  object        \n",
            " 3   date                             24443 non-null  datetime64[ns]\n",
            " 4   total_cases                      24443 non-null  float64       \n",
            " 5   new_cases                        24443 non-null  float64       \n",
            " 6   total_deaths                     24443 non-null  float64       \n",
            " 7   new_deaths                       24443 non-null  float64       \n",
            " 8   total_cases_per_million          24443 non-null  float64       \n",
            " 9   new_cases_per_million            24443 non-null  float64       \n",
            " 10  total_deaths_per_million         24443 non-null  float64       \n",
            " 11  new_deaths_per_million           24443 non-null  float64       \n",
            " 12  total_tests                      6773 non-null   float64       \n",
            " 13  new_tests                        6101 non-null   float64       \n",
            " 14  total_tests_per_thousand         6773 non-null   float64       \n",
            " 15  new_tests_per_thousand           6101 non-null   float64       \n",
            " 16  new_tests_smoothed               7308 non-null   float64       \n",
            " 17  new_tests_smoothed_per_thousand  7308 non-null   float64       \n",
            " 18  tests_units                      7919 non-null   object        \n",
            " 19  stringency_index                 19463 non-null  float64       \n",
            " 20  population                       24443 non-null  float64       \n",
            " 21  population_density               23399 non-null  float64       \n",
            " 22  median_age                       22124 non-null  float64       \n",
            " 23  aged_65_older                    21815 non-null  float64       \n",
            " 24  aged_70_older                    22011 non-null  float64       \n",
            " 25  gdp_per_capita                   21883 non-null  float64       \n",
            " 26  extreme_poverty                  14618 non-null  float64       \n",
            " 27  cvd_death_rate                   22146 non-null  float64       \n",
            " 28  diabetes_prevalence              22861 non-null  float64       \n",
            " 29  female_smokers                   17830 non-null  float64       \n",
            " 30  male_smokers                     17628 non-null  float64       \n",
            " 31  handwashing_facilities           9883 non-null   float64       \n",
            " 32  hospital_beds_per_thousand       20299 non-null  float64       \n",
            " 33  life_expectancy                  24105 non-null  float64       \n",
            " 34  month                            24443 non-null  int64         \n",
            "dtypes: datetime64[ns](1), float64(29), int64(1), object(4)\n",
            "memory usage: 6.5+ MB\n"
          ],
          "name": "stdout"
        }
      ]
    },
    {
      "cell_type": "code",
      "metadata": {
        "id": "nqDqNsVZDMzT",
        "colab_type": "code",
        "colab": {
          "base_uri": "https://localhost:8080/",
          "height": 402
        },
        "outputId": "1547f35b-ce96-4498-82a1-98f6c1bb462d"
      },
      "source": [
        "df_copy[['location', 'stringency_index']].iloc[151:]"
      ],
      "execution_count": null,
      "outputs": [
        {
          "output_type": "execute_result",
          "data": {
            "text/html": [
              "<div>\n",
              "<style scoped>\n",
              "    .dataframe tbody tr th:only-of-type {\n",
              "        vertical-align: middle;\n",
              "    }\n",
              "\n",
              "    .dataframe tbody tr th {\n",
              "        vertical-align: top;\n",
              "    }\n",
              "\n",
              "    .dataframe thead th {\n",
              "        text-align: right;\n",
              "    }\n",
              "</style>\n",
              "<table border=\"1\" class=\"dataframe\">\n",
              "  <thead>\n",
              "    <tr style=\"text-align: right;\">\n",
              "      <th></th>\n",
              "      <th>location</th>\n",
              "      <th>stringency_index</th>\n",
              "    </tr>\n",
              "  </thead>\n",
              "  <tbody>\n",
              "    <tr>\n",
              "      <th>151</th>\n",
              "      <td>Afghanistan</td>\n",
              "      <td>NaN</td>\n",
              "    </tr>\n",
              "    <tr>\n",
              "      <th>152</th>\n",
              "      <td>Afghanistan</td>\n",
              "      <td>NaN</td>\n",
              "    </tr>\n",
              "    <tr>\n",
              "      <th>153</th>\n",
              "      <td>Afghanistan</td>\n",
              "      <td>NaN</td>\n",
              "    </tr>\n",
              "    <tr>\n",
              "      <th>154</th>\n",
              "      <td>Afghanistan</td>\n",
              "      <td>NaN</td>\n",
              "    </tr>\n",
              "    <tr>\n",
              "      <th>155</th>\n",
              "      <td>Afghanistan</td>\n",
              "      <td>NaN</td>\n",
              "    </tr>\n",
              "    <tr>\n",
              "      <th>...</th>\n",
              "      <td>...</td>\n",
              "      <td>...</td>\n",
              "    </tr>\n",
              "    <tr>\n",
              "      <th>24438</th>\n",
              "      <td>International</td>\n",
              "      <td>NaN</td>\n",
              "    </tr>\n",
              "    <tr>\n",
              "      <th>24439</th>\n",
              "      <td>International</td>\n",
              "      <td>NaN</td>\n",
              "    </tr>\n",
              "    <tr>\n",
              "      <th>24440</th>\n",
              "      <td>International</td>\n",
              "      <td>NaN</td>\n",
              "    </tr>\n",
              "    <tr>\n",
              "      <th>24441</th>\n",
              "      <td>International</td>\n",
              "      <td>NaN</td>\n",
              "    </tr>\n",
              "    <tr>\n",
              "      <th>24442</th>\n",
              "      <td>International</td>\n",
              "      <td>NaN</td>\n",
              "    </tr>\n",
              "  </tbody>\n",
              "</table>\n",
              "<p>24292 rows × 2 columns</p>\n",
              "</div>"
            ],
            "text/plain": [
              "            location  stringency_index\n",
              "151      Afghanistan               NaN\n",
              "152      Afghanistan               NaN\n",
              "153      Afghanistan               NaN\n",
              "154      Afghanistan               NaN\n",
              "155      Afghanistan               NaN\n",
              "...              ...               ...\n",
              "24438  International               NaN\n",
              "24439  International               NaN\n",
              "24440  International               NaN\n",
              "24441  International               NaN\n",
              "24442  International               NaN\n",
              "\n",
              "[24292 rows x 2 columns]"
            ]
          },
          "metadata": {
            "tags": []
          },
          "execution_count": 86
        }
      ]
    },
    {
      "cell_type": "code",
      "metadata": {
        "id": "uI6g_6llGaKX",
        "colab_type": "code",
        "colab": {
          "base_uri": "https://localhost:8080/",
          "height": 284
        },
        "outputId": "c2c45a2b-1378-47a4-88b1-77084fab5ace"
      },
      "source": [
        "df[df.location == 'Afghanistan'][['location', 'stringency_index']].iloc[152:]"
      ],
      "execution_count": null,
      "outputs": [
        {
          "output_type": "execute_result",
          "data": {
            "text/html": [
              "<div>\n",
              "<style scoped>\n",
              "    .dataframe tbody tr th:only-of-type {\n",
              "        vertical-align: middle;\n",
              "    }\n",
              "\n",
              "    .dataframe tbody tr th {\n",
              "        vertical-align: top;\n",
              "    }\n",
              "\n",
              "    .dataframe thead th {\n",
              "        text-align: right;\n",
              "    }\n",
              "</style>\n",
              "<table border=\"1\" class=\"dataframe\">\n",
              "  <thead>\n",
              "    <tr style=\"text-align: right;\">\n",
              "      <th></th>\n",
              "      <th>location</th>\n",
              "      <th>stringency_index</th>\n",
              "    </tr>\n",
              "  </thead>\n",
              "  <tbody>\n",
              "    <tr>\n",
              "      <th>152</th>\n",
              "      <td>Afghanistan</td>\n",
              "      <td>0.0</td>\n",
              "    </tr>\n",
              "    <tr>\n",
              "      <th>153</th>\n",
              "      <td>Afghanistan</td>\n",
              "      <td>0.0</td>\n",
              "    </tr>\n",
              "    <tr>\n",
              "      <th>154</th>\n",
              "      <td>Afghanistan</td>\n",
              "      <td>0.0</td>\n",
              "    </tr>\n",
              "    <tr>\n",
              "      <th>155</th>\n",
              "      <td>Afghanistan</td>\n",
              "      <td>0.0</td>\n",
              "    </tr>\n",
              "    <tr>\n",
              "      <th>156</th>\n",
              "      <td>Afghanistan</td>\n",
              "      <td>0.0</td>\n",
              "    </tr>\n",
              "    <tr>\n",
              "      <th>157</th>\n",
              "      <td>Afghanistan</td>\n",
              "      <td>0.0</td>\n",
              "    </tr>\n",
              "    <tr>\n",
              "      <th>158</th>\n",
              "      <td>Afghanistan</td>\n",
              "      <td>0.0</td>\n",
              "    </tr>\n",
              "    <tr>\n",
              "      <th>159</th>\n",
              "      <td>Afghanistan</td>\n",
              "      <td>0.0</td>\n",
              "    </tr>\n",
              "  </tbody>\n",
              "</table>\n",
              "</div>"
            ],
            "text/plain": [
              "        location  stringency_index\n",
              "152  Afghanistan               0.0\n",
              "153  Afghanistan               0.0\n",
              "154  Afghanistan               0.0\n",
              "155  Afghanistan               0.0\n",
              "156  Afghanistan               0.0\n",
              "157  Afghanistan               0.0\n",
              "158  Afghanistan               0.0\n",
              "159  Afghanistan               0.0"
            ]
          },
          "metadata": {
            "tags": []
          },
          "execution_count": 60
        }
      ]
    },
    {
      "cell_type": "code",
      "metadata": {
        "id": "bhUGdL_JGjNa",
        "colab_type": "code",
        "colab": {}
      },
      "source": [
        ""
      ],
      "execution_count": null,
      "outputs": []
    }
  ]
}