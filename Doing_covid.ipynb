{
  "nbformat": 4,
  "nbformat_minor": 0,
  "metadata": {
    "colab": {
      "name": "Doing_covid.ipynb",
      "provenance": [],
      "authorship_tag": "ABX9TyNR88rTymRLXRC8yX+t5EBl"
    },
    "kernelspec": {
      "name": "python3",
      "display_name": "Python 3"
    }
  },
  "cells": [
    {
      "cell_type": "markdown",
      "metadata": {
        "id": "M3qFu3Tok00K",
        "colab_type": "text"
      },
      "source": [
        "#Cleaning the DataSet"
      ]
    },
    {
      "cell_type": "code",
      "metadata": {
        "id": "UU6cmTrk42MF",
        "colab_type": "code",
        "colab": {}
      },
      "source": [
        "#Importing the libraries\n",
        "import pandas as pd\n",
        "import numpy as np\n",
        "import matplotlib.pyplot as plt\n",
        "import datetime"
      ],
      "execution_count": 255,
      "outputs": []
    },
    {
      "cell_type": "code",
      "metadata": {
        "id": "WleoBnC15a8D",
        "colab_type": "code",
        "colab": {}
      },
      "source": [
        "#Reading the data\n",
        "df = pd.read_csv('Covid_data.csv')"
      ],
      "execution_count": null,
      "outputs": []
    },
    {
      "cell_type": "code",
      "metadata": {
        "id": "uZC5TX1gAzQ5",
        "colab_type": "code",
        "colab": {
          "base_uri": "https://localhost:8080/",
          "height": 299
        },
        "outputId": "59a9b4eb-3b37-44ba-c57e-41f582fa7048"
      },
      "source": [
        "#Observing the first 5 datapoints\n",
        "df.head()"
      ],
      "execution_count": 256,
      "outputs": [
        {
          "output_type": "execute_result",
          "data": {
            "text/html": [
              "<div>\n",
              "<style scoped>\n",
              "    .dataframe tbody tr th:only-of-type {\n",
              "        vertical-align: middle;\n",
              "    }\n",
              "\n",
              "    .dataframe tbody tr th {\n",
              "        vertical-align: top;\n",
              "    }\n",
              "\n",
              "    .dataframe thead th {\n",
              "        text-align: right;\n",
              "    }\n",
              "</style>\n",
              "<table border=\"1\" class=\"dataframe\">\n",
              "  <thead>\n",
              "    <tr style=\"text-align: right;\">\n",
              "      <th></th>\n",
              "      <th>iso_code</th>\n",
              "      <th>continent</th>\n",
              "      <th>location</th>\n",
              "      <th>date</th>\n",
              "      <th>total_cases</th>\n",
              "      <th>new_cases</th>\n",
              "      <th>total_deaths</th>\n",
              "      <th>new_deaths</th>\n",
              "      <th>total_cases_per_million</th>\n",
              "      <th>new_cases_per_million</th>\n",
              "      <th>total_deaths_per_million</th>\n",
              "      <th>new_deaths_per_million</th>\n",
              "      <th>total_tests</th>\n",
              "      <th>new_tests</th>\n",
              "      <th>total_tests_per_thousand</th>\n",
              "      <th>new_tests_per_thousand</th>\n",
              "      <th>new_tests_smoothed</th>\n",
              "      <th>new_tests_smoothed_per_thousand</th>\n",
              "      <th>tests_units</th>\n",
              "      <th>stringency_index</th>\n",
              "      <th>population</th>\n",
              "      <th>population_density</th>\n",
              "      <th>median_age</th>\n",
              "      <th>aged_65_older</th>\n",
              "      <th>aged_70_older</th>\n",
              "      <th>gdp_per_capita</th>\n",
              "      <th>extreme_poverty</th>\n",
              "      <th>cvd_death_rate</th>\n",
              "      <th>diabetes_prevalence</th>\n",
              "      <th>female_smokers</th>\n",
              "      <th>male_smokers</th>\n",
              "      <th>handwashing_facilities</th>\n",
              "      <th>hospital_beds_per_thousand</th>\n",
              "      <th>life_expectancy</th>\n",
              "      <th>month</th>\n",
              "    </tr>\n",
              "  </thead>\n",
              "  <tbody>\n",
              "    <tr>\n",
              "      <th>0</th>\n",
              "      <td>AFG</td>\n",
              "      <td>Asia</td>\n",
              "      <td>Afghanistan</td>\n",
              "      <td>2019-12-31</td>\n",
              "      <td>0.0</td>\n",
              "      <td>0.0</td>\n",
              "      <td>0.0</td>\n",
              "      <td>0.0</td>\n",
              "      <td>0.0</td>\n",
              "      <td>0.0</td>\n",
              "      <td>0.0</td>\n",
              "      <td>0.0</td>\n",
              "      <td>NaN</td>\n",
              "      <td>NaN</td>\n",
              "      <td>NaN</td>\n",
              "      <td>NaN</td>\n",
              "      <td>NaN</td>\n",
              "      <td>NaN</td>\n",
              "      <td>NaN</td>\n",
              "      <td>NaN</td>\n",
              "      <td>38928341.0</td>\n",
              "      <td>54.422</td>\n",
              "      <td>18.6</td>\n",
              "      <td>2.581</td>\n",
              "      <td>1.337</td>\n",
              "      <td>1803.987</td>\n",
              "      <td>NaN</td>\n",
              "      <td>597.029</td>\n",
              "      <td>9.59</td>\n",
              "      <td>NaN</td>\n",
              "      <td>NaN</td>\n",
              "      <td>37.746</td>\n",
              "      <td>0.5</td>\n",
              "      <td>64.83</td>\n",
              "      <td>12</td>\n",
              "    </tr>\n",
              "    <tr>\n",
              "      <th>1</th>\n",
              "      <td>AFG</td>\n",
              "      <td>Asia</td>\n",
              "      <td>Afghanistan</td>\n",
              "      <td>2020-01-01</td>\n",
              "      <td>0.0</td>\n",
              "      <td>0.0</td>\n",
              "      <td>0.0</td>\n",
              "      <td>0.0</td>\n",
              "      <td>0.0</td>\n",
              "      <td>0.0</td>\n",
              "      <td>0.0</td>\n",
              "      <td>0.0</td>\n",
              "      <td>NaN</td>\n",
              "      <td>NaN</td>\n",
              "      <td>NaN</td>\n",
              "      <td>NaN</td>\n",
              "      <td>NaN</td>\n",
              "      <td>NaN</td>\n",
              "      <td>NaN</td>\n",
              "      <td>0.0</td>\n",
              "      <td>38928341.0</td>\n",
              "      <td>54.422</td>\n",
              "      <td>18.6</td>\n",
              "      <td>2.581</td>\n",
              "      <td>1.337</td>\n",
              "      <td>1803.987</td>\n",
              "      <td>NaN</td>\n",
              "      <td>597.029</td>\n",
              "      <td>9.59</td>\n",
              "      <td>NaN</td>\n",
              "      <td>NaN</td>\n",
              "      <td>37.746</td>\n",
              "      <td>0.5</td>\n",
              "      <td>64.83</td>\n",
              "      <td>1</td>\n",
              "    </tr>\n",
              "    <tr>\n",
              "      <th>2</th>\n",
              "      <td>AFG</td>\n",
              "      <td>Asia</td>\n",
              "      <td>Afghanistan</td>\n",
              "      <td>2020-01-02</td>\n",
              "      <td>0.0</td>\n",
              "      <td>0.0</td>\n",
              "      <td>0.0</td>\n",
              "      <td>0.0</td>\n",
              "      <td>0.0</td>\n",
              "      <td>0.0</td>\n",
              "      <td>0.0</td>\n",
              "      <td>0.0</td>\n",
              "      <td>NaN</td>\n",
              "      <td>NaN</td>\n",
              "      <td>NaN</td>\n",
              "      <td>NaN</td>\n",
              "      <td>NaN</td>\n",
              "      <td>NaN</td>\n",
              "      <td>NaN</td>\n",
              "      <td>0.0</td>\n",
              "      <td>38928341.0</td>\n",
              "      <td>54.422</td>\n",
              "      <td>18.6</td>\n",
              "      <td>2.581</td>\n",
              "      <td>1.337</td>\n",
              "      <td>1803.987</td>\n",
              "      <td>NaN</td>\n",
              "      <td>597.029</td>\n",
              "      <td>9.59</td>\n",
              "      <td>NaN</td>\n",
              "      <td>NaN</td>\n",
              "      <td>37.746</td>\n",
              "      <td>0.5</td>\n",
              "      <td>64.83</td>\n",
              "      <td>1</td>\n",
              "    </tr>\n",
              "    <tr>\n",
              "      <th>3</th>\n",
              "      <td>AFG</td>\n",
              "      <td>Asia</td>\n",
              "      <td>Afghanistan</td>\n",
              "      <td>2020-01-03</td>\n",
              "      <td>0.0</td>\n",
              "      <td>0.0</td>\n",
              "      <td>0.0</td>\n",
              "      <td>0.0</td>\n",
              "      <td>0.0</td>\n",
              "      <td>0.0</td>\n",
              "      <td>0.0</td>\n",
              "      <td>0.0</td>\n",
              "      <td>NaN</td>\n",
              "      <td>NaN</td>\n",
              "      <td>NaN</td>\n",
              "      <td>NaN</td>\n",
              "      <td>NaN</td>\n",
              "      <td>NaN</td>\n",
              "      <td>NaN</td>\n",
              "      <td>0.0</td>\n",
              "      <td>38928341.0</td>\n",
              "      <td>54.422</td>\n",
              "      <td>18.6</td>\n",
              "      <td>2.581</td>\n",
              "      <td>1.337</td>\n",
              "      <td>1803.987</td>\n",
              "      <td>NaN</td>\n",
              "      <td>597.029</td>\n",
              "      <td>9.59</td>\n",
              "      <td>NaN</td>\n",
              "      <td>NaN</td>\n",
              "      <td>37.746</td>\n",
              "      <td>0.5</td>\n",
              "      <td>64.83</td>\n",
              "      <td>1</td>\n",
              "    </tr>\n",
              "    <tr>\n",
              "      <th>4</th>\n",
              "      <td>AFG</td>\n",
              "      <td>Asia</td>\n",
              "      <td>Afghanistan</td>\n",
              "      <td>2020-01-04</td>\n",
              "      <td>0.0</td>\n",
              "      <td>0.0</td>\n",
              "      <td>0.0</td>\n",
              "      <td>0.0</td>\n",
              "      <td>0.0</td>\n",
              "      <td>0.0</td>\n",
              "      <td>0.0</td>\n",
              "      <td>0.0</td>\n",
              "      <td>NaN</td>\n",
              "      <td>NaN</td>\n",
              "      <td>NaN</td>\n",
              "      <td>NaN</td>\n",
              "      <td>NaN</td>\n",
              "      <td>NaN</td>\n",
              "      <td>NaN</td>\n",
              "      <td>0.0</td>\n",
              "      <td>38928341.0</td>\n",
              "      <td>54.422</td>\n",
              "      <td>18.6</td>\n",
              "      <td>2.581</td>\n",
              "      <td>1.337</td>\n",
              "      <td>1803.987</td>\n",
              "      <td>NaN</td>\n",
              "      <td>597.029</td>\n",
              "      <td>9.59</td>\n",
              "      <td>NaN</td>\n",
              "      <td>NaN</td>\n",
              "      <td>37.746</td>\n",
              "      <td>0.5</td>\n",
              "      <td>64.83</td>\n",
              "      <td>1</td>\n",
              "    </tr>\n",
              "  </tbody>\n",
              "</table>\n",
              "</div>"
            ],
            "text/plain": [
              "  iso_code continent  ... life_expectancy month\n",
              "0      AFG      Asia  ...           64.83    12\n",
              "1      AFG      Asia  ...           64.83     1\n",
              "2      AFG      Asia  ...           64.83     1\n",
              "3      AFG      Asia  ...           64.83     1\n",
              "4      AFG      Asia  ...           64.83     1\n",
              "\n",
              "[5 rows x 35 columns]"
            ]
          },
          "metadata": {
            "tags": []
          },
          "execution_count": 256
        }
      ]
    },
    {
      "cell_type": "code",
      "metadata": {
        "id": "kZOZvD7DsOZK",
        "colab_type": "code",
        "colab": {
          "base_uri": "https://localhost:8080/",
          "height": 722
        },
        "outputId": "775faf07-b94d-4a5f-f75d-ac1053d0b9b9"
      },
      "source": [
        "#Information about the data\n",
        "df.info()"
      ],
      "execution_count": 257,
      "outputs": [
        {
          "output_type": "stream",
          "text": [
            "<class 'pandas.core.frame.DataFrame'>\n",
            "RangeIndex: 24443 entries, 0 to 24442\n",
            "Data columns (total 35 columns):\n",
            " #   Column                           Non-Null Count  Dtype         \n",
            "---  ------                           --------------  -----         \n",
            " 0   iso_code                         24443 non-null  object        \n",
            " 1   continent                        24443 non-null  object        \n",
            " 2   location                         24443 non-null  object        \n",
            " 3   date                             24443 non-null  datetime64[ns]\n",
            " 4   total_cases                      24443 non-null  float64       \n",
            " 5   new_cases                        24443 non-null  float64       \n",
            " 6   total_deaths                     24443 non-null  float64       \n",
            " 7   new_deaths                       24443 non-null  float64       \n",
            " 8   total_cases_per_million          24443 non-null  float64       \n",
            " 9   new_cases_per_million            24443 non-null  float64       \n",
            " 10  total_deaths_per_million         24443 non-null  float64       \n",
            " 11  new_deaths_per_million           24443 non-null  float64       \n",
            " 12  total_tests                      6773 non-null   float64       \n",
            " 13  new_tests                        6101 non-null   float64       \n",
            " 14  total_tests_per_thousand         6773 non-null   float64       \n",
            " 15  new_tests_per_thousand           6101 non-null   float64       \n",
            " 16  new_tests_smoothed               7308 non-null   float64       \n",
            " 17  new_tests_smoothed_per_thousand  7308 non-null   float64       \n",
            " 18  tests_units                      7919 non-null   object        \n",
            " 19  stringency_index                 19463 non-null  float64       \n",
            " 20  population                       24379 non-null  float64       \n",
            " 21  population_density               23399 non-null  float64       \n",
            " 22  median_age                       22124 non-null  float64       \n",
            " 23  aged_65_older                    21815 non-null  float64       \n",
            " 24  aged_70_older                    22011 non-null  float64       \n",
            " 25  gdp_per_capita                   21883 non-null  float64       \n",
            " 26  extreme_poverty                  14618 non-null  float64       \n",
            " 27  cvd_death_rate                   22146 non-null  float64       \n",
            " 28  diabetes_prevalence              22861 non-null  float64       \n",
            " 29  female_smokers                   17830 non-null  float64       \n",
            " 30  male_smokers                     17628 non-null  float64       \n",
            " 31  handwashing_facilities           9883 non-null   float64       \n",
            " 32  hospital_beds_per_thousand       20299 non-null  float64       \n",
            " 33  life_expectancy                  24105 non-null  float64       \n",
            " 34  month                            24443 non-null  int64         \n",
            "dtypes: datetime64[ns](1), float64(29), int64(1), object(4)\n",
            "memory usage: 6.5+ MB\n"
          ],
          "name": "stdout"
        }
      ]
    },
    {
      "cell_type": "code",
      "metadata": {
        "id": "74gonwzTf5cb",
        "colab_type": "code",
        "colab": {}
      },
      "source": [
        "#Converting the object to datetime\n",
        "df['date'] = pd.to_datetime(df['date'])"
      ],
      "execution_count": 258,
      "outputs": []
    },
    {
      "cell_type": "code",
      "metadata": {
        "id": "KIKerOGJsSXu",
        "colab_type": "code",
        "colab": {}
      },
      "source": [
        "#Extracting and creating a new month column\n",
        "df['month'] = df['date'].apply(lambda x: x.month)"
      ],
      "execution_count": 259,
      "outputs": []
    },
    {
      "cell_type": "code",
      "metadata": {
        "id": "E_9Y94RhsUAi",
        "colab_type": "code",
        "colab": {}
      },
      "source": [
        "total_cases_by_month = df.total_cases.groupby(df.month).sum()"
      ],
      "execution_count": 260,
      "outputs": []
    },
    {
      "cell_type": "code",
      "metadata": {
        "id": "WQvft3B3soK0",
        "colab_type": "code",
        "colab": {
          "base_uri": "https://localhost:8080/",
          "height": 276
        },
        "outputId": "ac0a9845-2e19-4068-e4a6-71b24e02bc97"
      },
      "source": [
        "plt.bar(total_cases_by_month.index, total_cases_by_month)\n",
        "plt.show()"
      ],
      "execution_count": 261,
      "outputs": [
        {
          "output_type": "display_data",
          "data": {
            "image/png": "[encoded data removed]",
            "text/plain": [
              "<Figure size 432x288 with 1 Axes>"
            ]
          },
          "metadata": {
            "tags": [],
            "needs_background": "light"
          }
        }
      ]
    },
    {
      "cell_type": "code",
      "metadata": {
        "id": "OjfEoaRmDMLL",
        "colab_type": "code",
        "colab": {
          "base_uri": "https://localhost:8080/",
          "height": 299
        },
        "outputId": "a834a8b3-3788-4436-898e-435715f75415"
      },
      "source": [
        "df.head()"
      ],
      "execution_count": 262,
      "outputs": [
        {
          "output_type": "execute_result",
          "data": {
            "text/html": [
              "<div>\n",
              "<style scoped>\n",
              "    .dataframe tbody tr th:only-of-type {\n",
              "        vertical-align: middle;\n",
              "    }\n",
              "\n",
              "    .dataframe tbody tr th {\n",
              "        vertical-align: top;\n",
              "    }\n",
              "\n",
              "    .dataframe thead th {\n",
              "        text-align: right;\n",
              "    }\n",
              "</style>\n",
              "<table border=\"1\" class=\"dataframe\">\n",
              "  <thead>\n",
              "    <tr style=\"text-align: right;\">\n",
              "      <th></th>\n",
              "      <th>iso_code</th>\n",
              "      <th>continent</th>\n",
              "      <th>location</th>\n",
              "      <th>date</th>\n",
              "      <th>total_cases</th>\n",
              "      <th>new_cases</th>\n",
              "      <th>total_deaths</th>\n",
              "      <th>new_deaths</th>\n",
              "      <th>total_cases_per_million</th>\n",
              "      <th>new_cases_per_million</th>\n",
              "      <th>total_deaths_per_million</th>\n",
              "      <th>new_deaths_per_million</th>\n",
              "      <th>total_tests</th>\n",
              "      <th>new_tests</th>\n",
              "      <th>total_tests_per_thousand</th>\n",
              "      <th>new_tests_per_thousand</th>\n",
              "      <th>new_tests_smoothed</th>\n",
              "      <th>new_tests_smoothed_per_thousand</th>\n",
              "      <th>tests_units</th>\n",
              "      <th>stringency_index</th>\n",
              "      <th>population</th>\n",
              "      <th>population_density</th>\n",
              "      <th>median_age</th>\n",
              "      <th>aged_65_older</th>\n",
              "      <th>aged_70_older</th>\n",
              "      <th>gdp_per_capita</th>\n",
              "      <th>extreme_poverty</th>\n",
              "      <th>cvd_death_rate</th>\n",
              "      <th>diabetes_prevalence</th>\n",
              "      <th>female_smokers</th>\n",
              "      <th>male_smokers</th>\n",
              "      <th>handwashing_facilities</th>\n",
              "      <th>hospital_beds_per_thousand</th>\n",
              "      <th>life_expectancy</th>\n",
              "      <th>month</th>\n",
              "    </tr>\n",
              "  </thead>\n",
              "  <tbody>\n",
              "    <tr>\n",
              "      <th>0</th>\n",
              "      <td>AFG</td>\n",
              "      <td>Asia</td>\n",
              "      <td>Afghanistan</td>\n",
              "      <td>2019-12-31</td>\n",
              "      <td>0.0</td>\n",
              "      <td>0.0</td>\n",
              "      <td>0.0</td>\n",
              "      <td>0.0</td>\n",
              "      <td>0.0</td>\n",
              "      <td>0.0</td>\n",
              "      <td>0.0</td>\n",
              "      <td>0.0</td>\n",
              "      <td>NaN</td>\n",
              "      <td>NaN</td>\n",
              "      <td>NaN</td>\n",
              "      <td>NaN</td>\n",
              "      <td>NaN</td>\n",
              "      <td>NaN</td>\n",
              "      <td>NaN</td>\n",
              "      <td>NaN</td>\n",
              "      <td>38928341.0</td>\n",
              "      <td>54.422</td>\n",
              "      <td>18.6</td>\n",
              "      <td>2.581</td>\n",
              "      <td>1.337</td>\n",
              "      <td>1803.987</td>\n",
              "      <td>NaN</td>\n",
              "      <td>597.029</td>\n",
              "      <td>9.59</td>\n",
              "      <td>NaN</td>\n",
              "      <td>NaN</td>\n",
              "      <td>37.746</td>\n",
              "      <td>0.5</td>\n",
              "      <td>64.83</td>\n",
              "      <td>12</td>\n",
              "    </tr>\n",
              "    <tr>\n",
              "      <th>1</th>\n",
              "      <td>AFG</td>\n",
              "      <td>Asia</td>\n",
              "      <td>Afghanistan</td>\n",
              "      <td>2020-01-01</td>\n",
              "      <td>0.0</td>\n",
              "      <td>0.0</td>\n",
              "      <td>0.0</td>\n",
              "      <td>0.0</td>\n",
              "      <td>0.0</td>\n",
              "      <td>0.0</td>\n",
              "      <td>0.0</td>\n",
              "      <td>0.0</td>\n",
              "      <td>NaN</td>\n",
              "      <td>NaN</td>\n",
              "      <td>NaN</td>\n",
              "      <td>NaN</td>\n",
              "      <td>NaN</td>\n",
              "      <td>NaN</td>\n",
              "      <td>NaN</td>\n",
              "      <td>0.0</td>\n",
              "      <td>38928341.0</td>\n",
              "      <td>54.422</td>\n",
              "      <td>18.6</td>\n",
              "      <td>2.581</td>\n",
              "      <td>1.337</td>\n",
              "      <td>1803.987</td>\n",
              "      <td>NaN</td>\n",
              "      <td>597.029</td>\n",
              "      <td>9.59</td>\n",
              "      <td>NaN</td>\n",
              "      <td>NaN</td>\n",
              "      <td>37.746</td>\n",
              "      <td>0.5</td>\n",
              "      <td>64.83</td>\n",
              "      <td>1</td>\n",
              "    </tr>\n",
              "    <tr>\n",
              "      <th>2</th>\n",
              "      <td>AFG</td>\n",
              "      <td>Asia</td>\n",
              "      <td>Afghanistan</td>\n",
              "      <td>2020-01-02</td>\n",
              "      <td>0.0</td>\n",
              "      <td>0.0</td>\n",
              "      <td>0.0</td>\n",
              "      <td>0.0</td>\n",
              "      <td>0.0</td>\n",
              "      <td>0.0</td>\n",
              "      <td>0.0</td>\n",
              "      <td>0.0</td>\n",
              "      <td>NaN</td>\n",
              "      <td>NaN</td>\n",
              "      <td>NaN</td>\n",
              "      <td>NaN</td>\n",
              "      <td>NaN</td>\n",
              "      <td>NaN</td>\n",
              "      <td>NaN</td>\n",
              "      <td>0.0</td>\n",
              "      <td>38928341.0</td>\n",
              "      <td>54.422</td>\n",
              "      <td>18.6</td>\n",
              "      <td>2.581</td>\n",
              "      <td>1.337</td>\n",
              "      <td>1803.987</td>\n",
              "      <td>NaN</td>\n",
              "      <td>597.029</td>\n",
              "      <td>9.59</td>\n",
              "      <td>NaN</td>\n",
              "      <td>NaN</td>\n",
              "      <td>37.746</td>\n",
              "      <td>0.5</td>\n",
              "      <td>64.83</td>\n",
              "      <td>1</td>\n",
              "    </tr>\n",
              "    <tr>\n",
              "      <th>3</th>\n",
              "      <td>AFG</td>\n",
              "      <td>Asia</td>\n",
              "      <td>Afghanistan</td>\n",
              "      <td>2020-01-03</td>\n",
              "      <td>0.0</td>\n",
              "      <td>0.0</td>\n",
              "      <td>0.0</td>\n",
              "      <td>0.0</td>\n",
              "      <td>0.0</td>\n",
              "      <td>0.0</td>\n",
              "      <td>0.0</td>\n",
              "      <td>0.0</td>\n",
              "      <td>NaN</td>\n",
              "      <td>NaN</td>\n",
              "      <td>NaN</td>\n",
              "      <td>NaN</td>\n",
              "      <td>NaN</td>\n",
              "      <td>NaN</td>\n",
              "      <td>NaN</td>\n",
              "      <td>0.0</td>\n",
              "      <td>38928341.0</td>\n",
              "      <td>54.422</td>\n",
              "      <td>18.6</td>\n",
              "      <td>2.581</td>\n",
              "      <td>1.337</td>\n",
              "      <td>1803.987</td>\n",
              "      <td>NaN</td>\n",
              "      <td>597.029</td>\n",
              "      <td>9.59</td>\n",
              "      <td>NaN</td>\n",
              "      <td>NaN</td>\n",
              "      <td>37.746</td>\n",
              "      <td>0.5</td>\n",
              "      <td>64.83</td>\n",
              "      <td>1</td>\n",
              "    </tr>\n",
              "    <tr>\n",
              "      <th>4</th>\n",
              "      <td>AFG</td>\n",
              "      <td>Asia</td>\n",
              "      <td>Afghanistan</td>\n",
              "      <td>2020-01-04</td>\n",
              "      <td>0.0</td>\n",
              "      <td>0.0</td>\n",
              "      <td>0.0</td>\n",
              "      <td>0.0</td>\n",
              "      <td>0.0</td>\n",
              "      <td>0.0</td>\n",
              "      <td>0.0</td>\n",
              "      <td>0.0</td>\n",
              "      <td>NaN</td>\n",
              "      <td>NaN</td>\n",
              "      <td>NaN</td>\n",
              "      <td>NaN</td>\n",
              "      <td>NaN</td>\n",
              "      <td>NaN</td>\n",
              "      <td>NaN</td>\n",
              "      <td>0.0</td>\n",
              "      <td>38928341.0</td>\n",
              "      <td>54.422</td>\n",
              "      <td>18.6</td>\n",
              "      <td>2.581</td>\n",
              "      <td>1.337</td>\n",
              "      <td>1803.987</td>\n",
              "      <td>NaN</td>\n",
              "      <td>597.029</td>\n",
              "      <td>9.59</td>\n",
              "      <td>NaN</td>\n",
              "      <td>NaN</td>\n",
              "      <td>37.746</td>\n",
              "      <td>0.5</td>\n",
              "      <td>64.83</td>\n",
              "      <td>1</td>\n",
              "    </tr>\n",
              "  </tbody>\n",
              "</table>\n",
              "</div>"
            ],
            "text/plain": [
              "  iso_code continent  ... life_expectancy month\n",
              "0      AFG      Asia  ...           64.83    12\n",
              "1      AFG      Asia  ...           64.83     1\n",
              "2      AFG      Asia  ...           64.83     1\n",
              "3      AFG      Asia  ...           64.83     1\n",
              "4      AFG      Asia  ...           64.83     1\n",
              "\n",
              "[5 rows x 35 columns]"
            ]
          },
          "metadata": {
            "tags": []
          },
          "execution_count": 262
        }
      ]
    },
    {
      "cell_type": "code",
      "metadata": {
        "id": "pYfpyzlixh65",
        "colab_type": "code",
        "colab": {
          "base_uri": "https://localhost:8080/",
          "height": 790
        },
        "outputId": "d5b5504a-fac6-4c26-c90e-e5d40d064957"
      },
      "source": [
        "df.location.unique()"
      ],
      "execution_count": 263,
      "outputs": [
        {
          "output_type": "execute_result",
          "data": {
            "text/plain": [
              "array(['Afghanistan', 'Albania', 'Algeria', 'Andorra', 'Angola',\n",
              "       'Anguilla', 'Antigua and Barbuda', 'Argentina', 'Armenia', 'Aruba',\n",
              "       'Australia', 'Austria', 'Azerbaijan', 'Bahamas', 'Bahrain',\n",
              "       'Bangladesh', 'Barbados', 'Belarus', 'Belgium', 'Belize', 'Benin',\n",
              "       'Bermuda', 'Bhutan', 'Bolivia', 'Bonaire Sint Eustatius and Saba',\n",
              "       'Bosnia and Herzegovina', 'Botswana', 'Brazil',\n",
              "       'British Virgin Islands', 'Brunei', 'Bulgaria', 'Burkina Faso',\n",
              "       'Burundi', 'Cambodia', 'Cameroon', 'Canada', 'Cape Verde',\n",
              "       'Cayman Islands', 'Central African Republic', 'Chad', 'Chile',\n",
              "       'China', 'Colombia', 'Comoros', 'Congo', 'Costa Rica',\n",
              "       \"Cote d'Ivoire\", 'Croatia', 'Cuba', 'Curacao', 'Cyprus',\n",
              "       'Czech Republic', 'Democratic Republic of Congo', 'Denmark',\n",
              "       'Djibouti', 'Dominica', 'Dominican Republic', 'Ecuador', 'Egypt',\n",
              "       'El Salvador', 'Equatorial Guinea', 'Eritrea', 'Estonia',\n",
              "       'Ethiopia', 'Faeroe Islands', 'Falkland Islands', 'Fiji',\n",
              "       'Finland', 'France', 'French Polynesia', 'Gabon', 'Gambia',\n",
              "       'Georgia', 'Germany', 'Ghana', 'Gibraltar', 'Greece', 'Greenland',\n",
              "       'Grenada', 'Guam', 'Guatemala', 'Guernsey', 'Guinea',\n",
              "       'Guinea-Bissau', 'Guyana', 'Haiti', 'Honduras', 'Hong Kong',\n",
              "       'Hungary', 'Iceland', 'India', 'Indonesia', 'Iran', 'Iraq',\n",
              "       'Ireland', 'Isle of Man', 'Israel', 'Italy', 'Jamaica', 'Japan',\n",
              "       'Jersey', 'Jordan', 'Kazakhstan', 'Kenya', 'Kosovo', 'Kuwait',\n",
              "       'Kyrgyzstan', 'Laos', 'Latvia', 'Lebanon', 'Lesotho', 'Liberia',\n",
              "       'Libya', 'Liechtenstein', 'Lithuania', 'Luxembourg', 'Macedonia',\n",
              "       'Madagascar', 'Malawi', 'Malaysia', 'Maldives', 'Mali', 'Malta',\n",
              "       'Mauritania', 'Mauritius', 'Mexico', 'Moldova', 'Monaco',\n",
              "       'Mongolia', 'Montenegro', 'Montserrat', 'Morocco', 'Mozambique',\n",
              "       'Myanmar', 'Namibia', 'Nepal', 'Netherlands', 'New Caledonia',\n",
              "       'New Zealand', 'Nicaragua', 'Niger', 'Nigeria',\n",
              "       'Northern Mariana Islands', 'Norway', 'Oman', 'Pakistan',\n",
              "       'Palestine', 'Panama', 'Papua New Guinea', 'Paraguay', 'Peru',\n",
              "       'Philippines', 'Poland', 'Portugal', 'Puerto Rico', 'Qatar',\n",
              "       'Romania', 'Russia', 'Rwanda', 'Saint Kitts and Nevis',\n",
              "       'Saint Lucia', 'Saint Vincent and the Grenadines', 'San Marino',\n",
              "       'Sao Tome and Principe', 'Saudi Arabia', 'Senegal', 'Serbia',\n",
              "       'Seychelles', 'Sierra Leone', 'Singapore',\n",
              "       'Sint Maarten (Dutch part)', 'Slovakia', 'Slovenia', 'Somalia',\n",
              "       'South Africa', 'South Korea', 'South Sudan', 'Spain', 'Sri Lanka',\n",
              "       'Sudan', 'Suriname', 'Swaziland', 'Sweden', 'Switzerland', 'Syria',\n",
              "       'Taiwan', 'Tajikistan', 'Tanzania', 'Thailand', 'Timor', 'Togo',\n",
              "       'Trinidad and Tobago', 'Tunisia', 'Turkey',\n",
              "       'Turks and Caicos Islands', 'Uganda', 'Ukraine',\n",
              "       'United Arab Emirates', 'United Kingdom', 'United States',\n",
              "       'United States Virgin Islands', 'Uruguay', 'Uzbekistan', 'Vatican',\n",
              "       'Venezuela', 'Vietnam', 'Western Sahara', 'Yemen', 'Zambia',\n",
              "       'Zimbabwe', 'World', 'International'], dtype=object)"
            ]
          },
          "metadata": {
            "tags": []
          },
          "execution_count": 263
        }
      ]
    },
    {
      "cell_type": "code",
      "metadata": {
        "id": "QG4rFEeKyPIN",
        "colab_type": "code",
        "colab": {
          "base_uri": "https://localhost:8080/",
          "height": 722
        },
        "outputId": "3fb3d9e7-cd94-411c-cbb8-b31283f6147c"
      },
      "source": [
        "df.info()"
      ],
      "execution_count": 264,
      "outputs": [
        {
          "output_type": "stream",
          "text": [
            "<class 'pandas.core.frame.DataFrame'>\n",
            "RangeIndex: 24443 entries, 0 to 24442\n",
            "Data columns (total 35 columns):\n",
            " #   Column                           Non-Null Count  Dtype         \n",
            "---  ------                           --------------  -----         \n",
            " 0   iso_code                         24443 non-null  object        \n",
            " 1   continent                        24443 non-null  object        \n",
            " 2   location                         24443 non-null  object        \n",
            " 3   date                             24443 non-null  datetime64[ns]\n",
            " 4   total_cases                      24443 non-null  float64       \n",
            " 5   new_cases                        24443 non-null  float64       \n",
            " 6   total_deaths                     24443 non-null  float64       \n",
            " 7   new_deaths                       24443 non-null  float64       \n",
            " 8   total_cases_per_million          24443 non-null  float64       \n",
            " 9   new_cases_per_million            24443 non-null  float64       \n",
            " 10  total_deaths_per_million         24443 non-null  float64       \n",
            " 11  new_deaths_per_million           24443 non-null  float64       \n",
            " 12  total_tests                      6773 non-null   float64       \n",
            " 13  new_tests                        6101 non-null   float64       \n",
            " 14  total_tests_per_thousand         6773 non-null   float64       \n",
            " 15  new_tests_per_thousand           6101 non-null   float64       \n",
            " 16  new_tests_smoothed               7308 non-null   float64       \n",
            " 17  new_tests_smoothed_per_thousand  7308 non-null   float64       \n",
            " 18  tests_units                      7919 non-null   object        \n",
            " 19  stringency_index                 19463 non-null  float64       \n",
            " 20  population                       24379 non-null  float64       \n",
            " 21  population_density               23399 non-null  float64       \n",
            " 22  median_age                       22124 non-null  float64       \n",
            " 23  aged_65_older                    21815 non-null  float64       \n",
            " 24  aged_70_older                    22011 non-null  float64       \n",
            " 25  gdp_per_capita                   21883 non-null  float64       \n",
            " 26  extreme_poverty                  14618 non-null  float64       \n",
            " 27  cvd_death_rate                   22146 non-null  float64       \n",
            " 28  diabetes_prevalence              22861 non-null  float64       \n",
            " 29  female_smokers                   17830 non-null  float64       \n",
            " 30  male_smokers                     17628 non-null  float64       \n",
            " 31  handwashing_facilities           9883 non-null   float64       \n",
            " 32  hospital_beds_per_thousand       20299 non-null  float64       \n",
            " 33  life_expectancy                  24105 non-null  float64       \n",
            " 34  month                            24443 non-null  int64         \n",
            "dtypes: datetime64[ns](1), float64(29), int64(1), object(4)\n",
            "memory usage: 6.5+ MB\n"
          ],
          "name": "stdout"
        }
      ]
    },
    {
      "cell_type": "code",
      "metadata": {
        "id": "k2SlU10vyT7P",
        "colab_type": "code",
        "colab": {
          "base_uri": "https://localhost:8080/",
          "height": 420
        },
        "outputId": "c6411569-e480-456b-c731-b28f2246ed8f"
      },
      "source": [
        "df.iso_code.unique()"
      ],
      "execution_count": 265,
      "outputs": [
        {
          "output_type": "execute_result",
          "data": {
            "text/plain": [
              "array(['AFG', 'ALB', 'DZA', 'AND', 'AGO', 'AIA', 'ATG', 'ARG', 'ARM',\n",
              "       'ABW', 'AUS', 'AUT', 'AZE', 'BHS', 'BHR', 'BGD', 'BRB', 'BLR',\n",
              "       'BEL', 'BLZ', 'BEN', 'BMU', 'BTN', 'BOL', 'BES', 'BIH', 'BWA',\n",
              "       'BRA', 'VGB', 'BRN', 'BGR', 'BFA', 'BDI', 'KHM', 'CMR', 'CAN',\n",
              "       'CPV', 'CYM', 'CAF', 'TCD', 'CHL', 'CHN', 'COL', 'COM', 'COG',\n",
              "       'CRI', 'CIV', 'HRV', 'CUB', 'CUW', 'CYP', 'CZE', 'COD', 'DNK',\n",
              "       'DJI', 'DMA', 'DOM', 'ECU', 'EGY', 'SLV', 'GNQ', 'ERI', 'EST',\n",
              "       'ETH', 'FRO', 'FLK', 'FJI', 'FIN', 'FRA', 'PYF', 'GAB', 'GMB',\n",
              "       'GEO', 'DEU', 'GHA', 'GIB', 'GRC', 'GRL', 'GRD', 'GUM', 'GTM',\n",
              "       'GGY', 'GIN', 'GNB', 'GUY', 'HTI', 'HND', 'HKG', 'HUN', 'ISL',\n",
              "       'IND', 'IDN', 'IRN', 'IRQ', 'IRL', 'IMN', 'ISR', 'ITA', 'JAM',\n",
              "       'JPN', 'JEY', 'JOR', 'KAZ', 'KEN', 'OWID_KOS', 'KWT', 'KGZ', 'LAO',\n",
              "       'LVA', 'LBN', 'LSO', 'LBR', 'LBY', 'LIE', 'LTU', 'LUX', 'MKD',\n",
              "       'MDG', 'MWI', 'MYS', 'MDV', 'MLI', 'MLT', 'MRT', 'MUS', 'MEX',\n",
              "       'MDA', 'MCO', 'MNG', 'MNE', 'MSR', 'MAR', 'MOZ', 'MMR', 'NAM',\n",
              "       'NPL', 'NLD', 'NCL', 'NZL', 'NIC', 'NER', 'NGA', 'MNP', 'NOR',\n",
              "       'OMN', 'PAK', 'PSE', 'PAN', 'PNG', 'PRY', 'PER', 'PHL', 'POL',\n",
              "       'PRT', 'PRI', 'QAT', 'ROU', 'RUS', 'RWA', 'KNA', 'LCA', 'VCT',\n",
              "       'SMR', 'STP', 'SAU', 'SEN', 'SRB', 'SYC', 'SLE', 'SGP', 'SXM',\n",
              "       'SVK', 'SVN', 'SOM', 'ZAF', 'KOR', 'SSD', 'ESP', 'LKA', 'SDN',\n",
              "       'SUR', 'SWZ', 'SWE', 'CHE', 'SYR', 'TWN', 'TJK', 'TZA', 'THA',\n",
              "       'TLS', 'TGO', 'TTO', 'TUN', 'TUR', 'TCA', 'UGA', 'UKR', 'ARE',\n",
              "       'GBR', 'USA', 'VIR', 'URY', 'UZB', 'VAT', 'VEN', 'VNM', 'ESH',\n",
              "       'YEM', 'ZMB', 'ZWE', 'OWID_WRL', 'INT'], dtype=object)"
            ]
          },
          "metadata": {
            "tags": []
          },
          "execution_count": 265
        }
      ]
    },
    {
      "cell_type": "code",
      "metadata": {
        "id": "VK6l7fwbycP3",
        "colab_type": "code",
        "colab": {}
      },
      "source": [
        "df.iso_code.fillna('INT', inplace=True)"
      ],
      "execution_count": 266,
      "outputs": []
    },
    {
      "cell_type": "code",
      "metadata": {
        "id": "H74YTs87ygpT",
        "colab_type": "code",
        "colab": {
          "base_uri": "https://localhost:8080/",
          "height": 722
        },
        "outputId": "7e478d00-0ec3-4242-eadd-30a3c1758f7a"
      },
      "source": [
        "df.info()"
      ],
      "execution_count": 267,
      "outputs": [
        {
          "output_type": "stream",
          "text": [
            "<class 'pandas.core.frame.DataFrame'>\n",
            "RangeIndex: 24443 entries, 0 to 24442\n",
            "Data columns (total 35 columns):\n",
            " #   Column                           Non-Null Count  Dtype         \n",
            "---  ------                           --------------  -----         \n",
            " 0   iso_code                         24443 non-null  object        \n",
            " 1   continent                        24443 non-null  object        \n",
            " 2   location                         24443 non-null  object        \n",
            " 3   date                             24443 non-null  datetime64[ns]\n",
            " 4   total_cases                      24443 non-null  float64       \n",
            " 5   new_cases                        24443 non-null  float64       \n",
            " 6   total_deaths                     24443 non-null  float64       \n",
            " 7   new_deaths                       24443 non-null  float64       \n",
            " 8   total_cases_per_million          24443 non-null  float64       \n",
            " 9   new_cases_per_million            24443 non-null  float64       \n",
            " 10  total_deaths_per_million         24443 non-null  float64       \n",
            " 11  new_deaths_per_million           24443 non-null  float64       \n",
            " 12  total_tests                      6773 non-null   float64       \n",
            " 13  new_tests                        6101 non-null   float64       \n",
            " 14  total_tests_per_thousand         6773 non-null   float64       \n",
            " 15  new_tests_per_thousand           6101 non-null   float64       \n",
            " 16  new_tests_smoothed               7308 non-null   float64       \n",
            " 17  new_tests_smoothed_per_thousand  7308 non-null   float64       \n",
            " 18  tests_units                      7919 non-null   object        \n",
            " 19  stringency_index                 19463 non-null  float64       \n",
            " 20  population                       24379 non-null  float64       \n",
            " 21  population_density               23399 non-null  float64       \n",
            " 22  median_age                       22124 non-null  float64       \n",
            " 23  aged_65_older                    21815 non-null  float64       \n",
            " 24  aged_70_older                    22011 non-null  float64       \n",
            " 25  gdp_per_capita                   21883 non-null  float64       \n",
            " 26  extreme_poverty                  14618 non-null  float64       \n",
            " 27  cvd_death_rate                   22146 non-null  float64       \n",
            " 28  diabetes_prevalence              22861 non-null  float64       \n",
            " 29  female_smokers                   17830 non-null  float64       \n",
            " 30  male_smokers                     17628 non-null  float64       \n",
            " 31  handwashing_facilities           9883 non-null   float64       \n",
            " 32  hospital_beds_per_thousand       20299 non-null  float64       \n",
            " 33  life_expectancy                  24105 non-null  float64       \n",
            " 34  month                            24443 non-null  int64         \n",
            "dtypes: datetime64[ns](1), float64(29), int64(1), object(4)\n",
            "memory usage: 6.5+ MB\n"
          ],
          "name": "stdout"
        }
      ]
    },
    {
      "cell_type": "code",
      "metadata": {
        "id": "ZziT7baRzOg0",
        "colab_type": "code",
        "colab": {
          "base_uri": "https://localhost:8080/",
          "height": 50
        },
        "outputId": "c8f8649b-c965-4ff6-f16a-223039f9a276"
      },
      "source": [
        "df.continent.unique()"
      ],
      "execution_count": 269,
      "outputs": [
        {
          "output_type": "execute_result",
          "data": {
            "text/plain": [
              "array(['Asia', 'Europe', 'Africa', 'North America', 'South America',\n",
              "       'Oceania', 'Unknown'], dtype=object)"
            ]
          },
          "metadata": {
            "tags": []
          },
          "execution_count": 269
        }
      ]
    },
    {
      "cell_type": "code",
      "metadata": {
        "id": "Cp99-ktizlI4",
        "colab_type": "code",
        "colab": {}
      },
      "source": [
        "df.continent.fillna('Unknown', inplace = True)"
      ],
      "execution_count": 270,
      "outputs": []
    },
    {
      "cell_type": "code",
      "metadata": {
        "id": "APcStOObz3H0",
        "colab_type": "code",
        "colab": {
          "base_uri": "https://localhost:8080/",
          "height": 722
        },
        "outputId": "d4b2b3b2-aca1-4e00-edb8-442250354463"
      },
      "source": [
        "df.info()"
      ],
      "execution_count": 271,
      "outputs": [
        {
          "output_type": "stream",
          "text": [
            "<class 'pandas.core.frame.DataFrame'>\n",
            "RangeIndex: 24443 entries, 0 to 24442\n",
            "Data columns (total 35 columns):\n",
            " #   Column                           Non-Null Count  Dtype         \n",
            "---  ------                           --------------  -----         \n",
            " 0   iso_code                         24443 non-null  object        \n",
            " 1   continent                        24443 non-null  object        \n",
            " 2   location                         24443 non-null  object        \n",
            " 3   date                             24443 non-null  datetime64[ns]\n",
            " 4   total_cases                      24443 non-null  float64       \n",
            " 5   new_cases                        24443 non-null  float64       \n",
            " 6   total_deaths                     24443 non-null  float64       \n",
            " 7   new_deaths                       24443 non-null  float64       \n",
            " 8   total_cases_per_million          24443 non-null  float64       \n",
            " 9   new_cases_per_million            24443 non-null  float64       \n",
            " 10  total_deaths_per_million         24443 non-null  float64       \n",
            " 11  new_deaths_per_million           24443 non-null  float64       \n",
            " 12  total_tests                      6773 non-null   float64       \n",
            " 13  new_tests                        6101 non-null   float64       \n",
            " 14  total_tests_per_thousand         6773 non-null   float64       \n",
            " 15  new_tests_per_thousand           6101 non-null   float64       \n",
            " 16  new_tests_smoothed               7308 non-null   float64       \n",
            " 17  new_tests_smoothed_per_thousand  7308 non-null   float64       \n",
            " 18  tests_units                      7919 non-null   object        \n",
            " 19  stringency_index                 19463 non-null  float64       \n",
            " 20  population                       24379 non-null  float64       \n",
            " 21  population_density               23399 non-null  float64       \n",
            " 22  median_age                       22124 non-null  float64       \n",
            " 23  aged_65_older                    21815 non-null  float64       \n",
            " 24  aged_70_older                    22011 non-null  float64       \n",
            " 25  gdp_per_capita                   21883 non-null  float64       \n",
            " 26  extreme_poverty                  14618 non-null  float64       \n",
            " 27  cvd_death_rate                   22146 non-null  float64       \n",
            " 28  diabetes_prevalence              22861 non-null  float64       \n",
            " 29  female_smokers                   17830 non-null  float64       \n",
            " 30  male_smokers                     17628 non-null  float64       \n",
            " 31  handwashing_facilities           9883 non-null   float64       \n",
            " 32  hospital_beds_per_thousand       20299 non-null  float64       \n",
            " 33  life_expectancy                  24105 non-null  float64       \n",
            " 34  month                            24443 non-null  int64         \n",
            "dtypes: datetime64[ns](1), float64(29), int64(1), object(4)\n",
            "memory usage: 6.5+ MB\n"
          ],
          "name": "stdout"
        }
      ]
    },
    {
      "cell_type": "code",
      "metadata": {
        "id": "Gggs_fvB0x_2",
        "colab_type": "code",
        "colab": {}
      },
      "source": [
        "locations = list(df[df.total_cases.isnull()].location.unique())"
      ],
      "execution_count": 272,
      "outputs": []
    },
    {
      "cell_type": "code",
      "metadata": {
        "id": "bNQ724q39ZR6",
        "colab_type": "code",
        "colab": {}
      },
      "source": [
        "def fill_na_in_dates(locations):\n",
        "\n",
        "  for i in range(0, len(locations)):\n",
        "    first_null = df[(df.location == locations[i]) & (df.total_cases.isnull())].index[0]\n",
        "    first_not_null = df[(df.location == locations[i]) & (df.total_cases.notnull())].index[0]\n",
        "    len_location = len(df[df.location == locations[i]])\n",
        "\n",
        "    for row in range(first_null, first_not_null):\n",
        "      df.total_cases.replace(np.nan, 0, inplace = True)\n",
        "      df.new_cases.replace(np.nan, 0, inplace = True)\n",
        "      df.total_deaths.replace(np.nan, 0, inplace = True)\n",
        "      df.new_deaths.replace(np.nan, 0, inplace = True)\n",
        "      df.total_cases_per_million.replace(np.nan, 0, inplace = True)\n",
        "      df.new_cases_per_million.replace(np.nan, 0, inplace = True)\n",
        "      df.total_deaths_per_million.replace(np.nan, 0, inplace = True)\n",
        "      df.new_deaths_per_million.replace(np.nan, 0, inplace = True)\n",
        "\n",
        "    for row in range(first_not_null, len_location):\n",
        "      df_new.total_cases.replace(np.nan, df_new.total_cases.shift(1), inplace = True)\n",
        "      df_new.new_cases.replace(np.nan, 0, inplace = True)\n",
        "      df_new.total_deaths.replace(np.nan, df_new.total_deaths.shift(1), inplace = True)\n",
        "      df_new.new_deaths.replace(np.nan, 0, inplace = True)\n",
        "      df_new.total_cases_per_million.replace(np.nan, df_new.total_cases_per_million.shift(1), inplace = True)\n",
        "      df_new.new_cases_per_million.replace(np.nan, 0, inplace = True)\n",
        "      df_new.total_deaths_per_million.replace(np.nan, df_new.total_deaths_per_million.shift(1), inplace = True)\n",
        "      df_new.new_deaths_per_million.replace(np.nan, 0, inplace = True)"
      ],
      "execution_count": 273,
      "outputs": []
    },
    {
      "cell_type": "code",
      "metadata": {
        "id": "1Sjc2yJAcJMO",
        "colab_type": "code",
        "colab": {}
      },
      "source": [
        "fill_na_in_dates(locations)"
      ],
      "execution_count": 274,
      "outputs": []
    },
    {
      "cell_type": "code",
      "metadata": {
        "id": "OdlPHZnojWHD",
        "colab_type": "code",
        "colab": {
          "base_uri": "https://localhost:8080/",
          "height": 722
        },
        "outputId": "6ff1a8a2-e347-4d70-ef2c-ae89dacc3030"
      },
      "source": [
        "df.info()"
      ],
      "execution_count": 275,
      "outputs": [
        {
          "output_type": "stream",
          "text": [
            "<class 'pandas.core.frame.DataFrame'>\n",
            "RangeIndex: 24443 entries, 0 to 24442\n",
            "Data columns (total 35 columns):\n",
            " #   Column                           Non-Null Count  Dtype         \n",
            "---  ------                           --------------  -----         \n",
            " 0   iso_code                         24443 non-null  object        \n",
            " 1   continent                        24443 non-null  object        \n",
            " 2   location                         24443 non-null  object        \n",
            " 3   date                             24443 non-null  datetime64[ns]\n",
            " 4   total_cases                      24443 non-null  float64       \n",
            " 5   new_cases                        24443 non-null  float64       \n",
            " 6   total_deaths                     24443 non-null  float64       \n",
            " 7   new_deaths                       24443 non-null  float64       \n",
            " 8   total_cases_per_million          24443 non-null  float64       \n",
            " 9   new_cases_per_million            24443 non-null  float64       \n",
            " 10  total_deaths_per_million         24443 non-null  float64       \n",
            " 11  new_deaths_per_million           24443 non-null  float64       \n",
            " 12  total_tests                      6773 non-null   float64       \n",
            " 13  new_tests                        6101 non-null   float64       \n",
            " 14  total_tests_per_thousand         6773 non-null   float64       \n",
            " 15  new_tests_per_thousand           6101 non-null   float64       \n",
            " 16  new_tests_smoothed               7308 non-null   float64       \n",
            " 17  new_tests_smoothed_per_thousand  7308 non-null   float64       \n",
            " 18  tests_units                      7919 non-null   object        \n",
            " 19  stringency_index                 19463 non-null  float64       \n",
            " 20  population                       24379 non-null  float64       \n",
            " 21  population_density               23399 non-null  float64       \n",
            " 22  median_age                       22124 non-null  float64       \n",
            " 23  aged_65_older                    21815 non-null  float64       \n",
            " 24  aged_70_older                    22011 non-null  float64       \n",
            " 25  gdp_per_capita                   21883 non-null  float64       \n",
            " 26  extreme_poverty                  14618 non-null  float64       \n",
            " 27  cvd_death_rate                   22146 non-null  float64       \n",
            " 28  diabetes_prevalence              22861 non-null  float64       \n",
            " 29  female_smokers                   17830 non-null  float64       \n",
            " 30  male_smokers                     17628 non-null  float64       \n",
            " 31  handwashing_facilities           9883 non-null   float64       \n",
            " 32  hospital_beds_per_thousand       20299 non-null  float64       \n",
            " 33  life_expectancy                  24105 non-null  float64       \n",
            " 34  month                            24443 non-null  int64         \n",
            "dtypes: datetime64[ns](1), float64(29), int64(1), object(4)\n",
            "memory usage: 6.5+ MB\n"
          ],
          "name": "stdout"
        }
      ]
    },
    {
      "cell_type": "code",
      "metadata": {
        "id": "alyJ6OrSjWN6",
        "colab_type": "code",
        "colab": {
          "base_uri": "https://localhost:8080/",
          "height": 34
        },
        "outputId": "9db4a0ac-985b-4a71-c8a2-d39300c873af"
      },
      "source": [
        "df[df.population.isnull()].location.unique()"
      ],
      "execution_count": 369,
      "outputs": [
        {
          "output_type": "execute_result",
          "data": {
            "text/plain": [
              "array(['International'], dtype=object)"
            ]
          },
          "metadata": {
            "tags": []
          },
          "execution_count": 369
        }
      ]
    },
    {
      "cell_type": "code",
      "metadata": {
        "id": "WMznOgK16D5P",
        "colab_type": "code",
        "colab": {
          "base_uri": "https://localhost:8080/",
          "height": 67
        },
        "outputId": "31f29f81-edc1-4c6c-c1eb-80ac3c1b9518"
      },
      "source": [
        "df.columns[4:12:2]"
      ],
      "execution_count": 397,
      "outputs": [
        {
          "output_type": "execute_result",
          "data": {
            "text/plain": [
              "Index(['total_cases', 'total_deaths', 'total_cases_per_million',\n",
              "       'total_deaths_per_million'],\n",
              "      dtype='object')"
            ]
          },
          "metadata": {
            "tags": []
          },
          "execution_count": 397
        }
      ]
    },
    {
      "cell_type": "code",
      "metadata": {
        "id": "t2GskdoI2if7",
        "colab_type": "code",
        "colab": {
          "base_uri": "https://localhost:8080/",
          "height": 34
        },
        "outputId": "cdf9cb37-132d-463a-e336-6cf2b6c5ee08"
      },
      "source": [
        "df[df.location =='International'].total_cases.sum()"
      ],
      "execution_count": 402,
      "outputs": [
        {
          "output_type": "execute_result",
          "data": {
            "text/plain": [
              "11737.0"
            ]
          },
          "metadata": {
            "tags": []
          },
          "execution_count": 402
        }
      ]
    }
  ]
}